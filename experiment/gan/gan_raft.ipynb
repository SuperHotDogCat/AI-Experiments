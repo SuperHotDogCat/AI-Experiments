{
 "cells": [
  {
   "cell_type": "code",
   "execution_count": 1,
   "metadata": {},
   "outputs": [
    {
     "name": "stdout",
     "output_type": "stream",
     "text": [
      "CUDA環境が壊れていないことを祈りながら確認->  False\n"
     ]
    }
   ],
   "source": [
    "import torch\n",
    "from torch import nn\n",
    "import torch.nn.functional as F\n",
    "from torch import optim\n",
    "import numpy as np\n",
    "from torchvision import transforms\n",
    "import torchvision\n",
    "from tqdm import tqdm\n",
    "np.random.seed(42)\n",
    "torch.manual_seed(42)\n",
    "torch.cuda.manual_seed(42)\n",
    "import warnings\n",
    "warnings.simplefilter('ignore')\n",
    "print(\"CUDA環境が壊れていないことを祈りながら確認-> \", torch.cuda.is_available())\n",
    "device = \"cuda\" if torch.cuda.is_available() else (\"mps\" if torch.backends.mps.is_available() else \"cpu\")"
   ]
  },
  {
   "cell_type": "code",
   "execution_count": 23,
   "metadata": {},
   "outputs": [
    {
     "name": "stdout",
     "output_type": "stream",
     "text": [
      "Files already downloaded and verified\n"
     ]
    }
   ],
   "source": [
    "transform = transforms.Compose([transforms.ToTensor(),])\n",
    "trainset = torchvision.datasets.CIFAR10(root='./data', train=True, download=True, transform=transform)"
   ]
  },
  {
   "cell_type": "code",
   "execution_count": 24,
   "metadata": {},
   "outputs": [],
   "source": [
    "class GNet(nn.Module):\n",
    "    def __init__(self, z_size, num_filters, device = device) -> None:\n",
    "        super().__init__()\n",
    "        self.model = nn.Sequential(\n",
    "            nn.ConvTranspose2d(z_size, num_filters*8, 4,1,0,bias=False),\n",
    "            nn.BatchNorm2d(num_filters*8),\n",
    "            nn.LeakyReLU(0.2),\n",
    "            nn.ConvTranspose2d(num_filters*8,num_filters*4,3,2,1,bias=False),\n",
    "            nn.BatchNorm2d(num_filters*4),\n",
    "            nn.LeakyReLU(0.2),\n",
    "            nn.ConvTranspose2d(num_filters*4,num_filters*2,4,2,1,bias=False),\n",
    "            nn.BatchNorm2d(num_filters*2),\n",
    "            nn.LeakyReLU(0.2),\n",
    "            nn.ConvTranspose2d(num_filters*2,num_filters,4,2,1,bias=False),\n",
    "            nn.BatchNorm2d(num_filters),\n",
    "            nn.LeakyReLU(0.2),\n",
    "            nn.ConvTranspose2d(num_filters,3,5,1,0,bias=False),\n",
    "            nn.Tanh()\n",
    "        ).to(device)\n",
    "    def forward(self,fake_data):\n",
    "        \"\"\"\n",
    "        create_noise関数は(batch_size, z_size)のため、(batch_size, z_size, 1, 1)に入力を変更してから計算を行う\n",
    "        \"\"\"\n",
    "        batch_size = fake_data.size(0)\n",
    "        z_size = fake_data.size(1)\n",
    "        fake_data = fake_data.view(batch_size,z_size,1,1)\n",
    "        fake_img = self.model(fake_data)\n",
    "        return fake_img.squeeze(1)"
   ]
  },
  {
   "cell_type": "code",
   "execution_count": 25,
   "metadata": {},
   "outputs": [],
   "source": [
    "class DNet(nn.Module):\n",
    "    def __init__(self,num_filters, image_size, device = device):\n",
    "        super().__init__()\n",
    "        self.model = nn.Sequential(\n",
    "            nn.Conv2d(3,num_filters,5,1,0,bias=False),\n",
    "            nn.BatchNorm2d(num_filters),\n",
    "            nn.LeakyReLU(0.2),\n",
    "            nn.Conv2d(num_filters,num_filters*2,4,2,1,bias=False),\n",
    "            nn.BatchNorm2d(num_filters*2),\n",
    "            nn.LeakyReLU(0.2),\n",
    "            nn.Conv2d(num_filters*2,num_filters*4,4,2,1,bias=False),\n",
    "            nn.BatchNorm2d(num_filters*4),\n",
    "            nn.LeakyReLU(0.2),\n",
    "            nn.Conv2d(num_filters*4,num_filters*8,3,2,1,bias=False),\n",
    "            nn.BatchNorm2d(num_filters*8),\n",
    "            nn.LeakyReLU(0.2),\n",
    "            nn.Conv2d(num_filters*8,1,4,1,0,bias=False),\n",
    "            nn.Sigmoid(),\n",
    "        ).to(device)\n",
    "        self.image_size = image_size\n",
    "    def forward(self, data):\n",
    "        data = data.view(-1,3,*self.image_size)\n",
    "        out = self.model(data)\n",
    "        return out.view(-1,1)"
   ]
  },
  {
   "cell_type": "code",
   "execution_count": 26,
   "metadata": {},
   "outputs": [],
   "source": [
    "from GANutils.trainutils import create_input\n",
    "epochs = 50\n",
    "z_size = 64\n",
    "D_losses = []\n",
    "G_losses = []\n",
    "num_filters = 32\n",
    "image_size = (32,32)\n",
    "gnet = GNet(z_size,num_filters).to(device)\n",
    "dnet = DNet(num_filters,image_size).to(device)\n",
    "optimizerG = optim.Adam(gnet.parameters(),lr = 2e-4)\n",
    "optimizerD = optim.Adam(dnet.parameters(),lr = 2e-4)"
   ]
  },
  {
   "cell_type": "code",
   "execution_count": 27,
   "metadata": {},
   "outputs": [
    {
     "data": {
      "text/plain": [
       "torch.Size([64, 3, 32, 32])"
      ]
     },
     "execution_count": 27,
     "metadata": {},
     "output_type": "execute_result"
    }
   ],
   "source": [
    "batch_size = 64\n",
    "z_size = 64\n",
    "gnet = GNet(z_size,1)\n",
    "z = create_input(batch_size,z_size).to(device)\n",
    "gnet(z).shape"
   ]
  },
  {
   "cell_type": "code",
   "execution_count": 28,
   "metadata": {},
   "outputs": [
    {
     "name": "stderr",
     "output_type": "stream",
     "text": [
      "  2%|▏         | 1/50 [01:38<1:20:25, 98.49s/it]"
     ]
    },
    {
     "name": "stdout",
     "output_type": "stream",
     "text": [
      "Discriminator Loss: 3.2739048037910834e-05,Generater Loss: 11.97514533996582\n"
     ]
    },
    {
     "name": "stderr",
     "output_type": "stream",
     "text": [
      " 22%|██▏       | 11/50 [23:06<1:22:59, 127.67s/it]"
     ]
    },
    {
     "name": "stdout",
     "output_type": "stream",
     "text": [
      "Discriminator Loss: 4.0978196835794733e-08,Generater Loss: 17.44725227355957\n"
     ]
    },
    {
     "name": "stderr",
     "output_type": "stream",
     "text": [
      " 32%|███▏      | 16/50 [3:02:48<6:28:27, 685.50s/it]  \n"
     ]
    },
    {
     "ename": "KeyboardInterrupt",
     "evalue": "",
     "output_type": "error",
     "traceback": [
      "\u001b[0;31m---------------------------------------------------------------------------\u001b[0m",
      "\u001b[0;31mKeyboardInterrupt\u001b[0m                         Traceback (most recent call last)",
      "Cell \u001b[0;32mIn [28], line 31\u001b[0m\n\u001b[1;32m     29\u001b[0m real_label \u001b[38;5;241m=\u001b[39m torch\u001b[38;5;241m.\u001b[39mones(batch_size,\u001b[38;5;241m1\u001b[39m)\u001b[38;5;241m.\u001b[39mto(device) \u001b[38;5;66;03m#ラベルが1になるように(騙すように)訓練するので、ラベルは1を予測するように作る\u001b[39;00m\n\u001b[1;32m     30\u001b[0m G_loss \u001b[38;5;241m=\u001b[39m criterion(fake_proba,real_label)\n\u001b[0;32m---> 31\u001b[0m G_loss\u001b[38;5;241m.\u001b[39mbackward()\n\u001b[1;32m     32\u001b[0m optimizerG\u001b[38;5;241m.\u001b[39mstep()\n\u001b[1;32m     33\u001b[0m D_loss, G_loss \u001b[38;5;241m=\u001b[39m D_loss\u001b[38;5;241m.\u001b[39mdetach()\u001b[38;5;241m.\u001b[39mitem(), G_loss\u001b[38;5;241m.\u001b[39mdetach()\u001b[38;5;241m.\u001b[39mitem()\n",
      "File \u001b[0;32m/Library/Frameworks/Python.framework/Versions/3.9/lib/python3.9/site-packages/torch/_tensor.py:487\u001b[0m, in \u001b[0;36mTensor.backward\u001b[0;34m(self, gradient, retain_graph, create_graph, inputs)\u001b[0m\n\u001b[1;32m    477\u001b[0m \u001b[39mif\u001b[39;00m has_torch_function_unary(\u001b[39mself\u001b[39m):\n\u001b[1;32m    478\u001b[0m     \u001b[39mreturn\u001b[39;00m handle_torch_function(\n\u001b[1;32m    479\u001b[0m         Tensor\u001b[39m.\u001b[39mbackward,\n\u001b[1;32m    480\u001b[0m         (\u001b[39mself\u001b[39m,),\n\u001b[0;32m   (...)\u001b[0m\n\u001b[1;32m    485\u001b[0m         inputs\u001b[39m=\u001b[39minputs,\n\u001b[1;32m    486\u001b[0m     )\n\u001b[0;32m--> 487\u001b[0m torch\u001b[39m.\u001b[39;49mautograd\u001b[39m.\u001b[39;49mbackward(\n\u001b[1;32m    488\u001b[0m     \u001b[39mself\u001b[39;49m, gradient, retain_graph, create_graph, inputs\u001b[39m=\u001b[39;49minputs\n\u001b[1;32m    489\u001b[0m )\n",
      "File \u001b[0;32m/Library/Frameworks/Python.framework/Versions/3.9/lib/python3.9/site-packages/torch/autograd/__init__.py:200\u001b[0m, in \u001b[0;36mbackward\u001b[0;34m(tensors, grad_tensors, retain_graph, create_graph, grad_variables, inputs)\u001b[0m\n\u001b[1;32m    195\u001b[0m     retain_graph \u001b[39m=\u001b[39m create_graph\n\u001b[1;32m    197\u001b[0m \u001b[39m# The reason we repeat same the comment below is that\u001b[39;00m\n\u001b[1;32m    198\u001b[0m \u001b[39m# some Python versions print out the first line of a multi-line function\u001b[39;00m\n\u001b[1;32m    199\u001b[0m \u001b[39m# calls in the traceback and some print out the last line\u001b[39;00m\n\u001b[0;32m--> 200\u001b[0m Variable\u001b[39m.\u001b[39;49m_execution_engine\u001b[39m.\u001b[39;49mrun_backward(  \u001b[39m# Calls into the C++ engine to run the backward pass\u001b[39;49;00m\n\u001b[1;32m    201\u001b[0m     tensors, grad_tensors_, retain_graph, create_graph, inputs,\n\u001b[1;32m    202\u001b[0m     allow_unreachable\u001b[39m=\u001b[39;49m\u001b[39mTrue\u001b[39;49;00m, accumulate_grad\u001b[39m=\u001b[39;49m\u001b[39mTrue\u001b[39;49;00m)\n",
      "\u001b[0;31mKeyboardInterrupt\u001b[0m: "
     ]
    }
   ],
   "source": [
    "from GANutils.trainutils import trainGAN\n",
    "import matplotlib.pyplot as plt\n",
    "cifar_dl = torch.utils.data.DataLoader(trainset, batch_size=batch_size)\n",
    "for epoch in tqdm(range(epochs)):\n",
    "    all_D_loss = 0\n",
    "    all_G_loss = 0\n",
    "    for data in cifar_dl:\n",
    "        data = data[0] / 255.\n",
    "        data = data.to(device)\n",
    "        criterion = nn.BCELoss()\n",
    "        optimizerD.zero_grad()\n",
    "        batch_size = data.size(0)\n",
    "        real_label = torch.ones(batch_size,1).to(device)\n",
    "        real_proba = dnet(data) #データの形状が合わない時はforward内部で入力ように整形変更することを想定して制作。\n",
    "        D_loss_real = criterion(real_proba, real_label)\n",
    "        input_z = create_input(batch_size,z_size).to(device)\n",
    "        fake_data = gnet(input_z).to(device)\n",
    "        fake_proba = dnet(fake_data).to(device)\n",
    "        fake_label = torch.zeros(batch_size,1).to(device)\n",
    "        D_loss_fake = criterion(fake_proba,fake_label)\n",
    "        D_loss = D_loss_fake + D_loss_real\n",
    "        D_loss.backward()\n",
    "        optimizerD.step()\n",
    "        #D_lossのところでGenerate Modelのパラメータの勾配も計算されている為、Generate Modelに関する勾配はここで初期化を行う\n",
    "        optimizerG.zero_grad()\n",
    "        input_z = create_input(batch_size,z_size).to(device)\n",
    "        fake_data = gnet(input_z)\n",
    "        fake_proba = dnet(fake_data)\n",
    "        real_label = torch.ones(batch_size,1).to(device) #ラベルが1になるように(騙すように)訓練するので、ラベルは1を予測するように作る\n",
    "        G_loss = criterion(fake_proba,real_label)\n",
    "        G_loss.backward()\n",
    "        optimizerG.step()\n",
    "        D_loss, G_loss = D_loss.detach().item(), G_loss.detach().item()\n",
    "        all_D_loss += D_loss\n",
    "        all_G_loss += G_loss\n",
    "    D_losses.append(all_D_loss/len(cifar_dl))\n",
    "    G_losses.append(all_G_loss/len(cifar_dl))\n",
    "    if epoch % 10 == 0:\n",
    "        print(f\"Discriminator Loss: {D_loss},Generater Loss: {G_loss}\")\n",
    "print(f\"Discriminator Loss: {D_loss},Generater Loss: {G_loss}\")"
   ]
  },
  {
   "cell_type": "code",
   "execution_count": 32,
   "metadata": {},
   "outputs": [
    {
     "data": {
      "text/plain": [
       "<matplotlib.image.AxesImage at 0x7fab2981de50>"
      ]
     },
     "execution_count": 32,
     "metadata": {},
     "output_type": "execute_result"
    },
    {
     "data": {
      "image/png": "[encoded data removed]",
      "text/plain": [
       "<Figure size 640x480 with 1 Axes>"
      ]
     },
     "metadata": {},
     "output_type": "display_data"
    }
   ],
   "source": [
    "import matplotlib.pyplot as plt\n",
    "topil = transforms.ToPILImage()\n",
    "plt.imshow(topil(data[0]*255))"
   ]
  },
  {
   "cell_type": "code",
   "execution_count": 33,
   "metadata": {},
   "outputs": [],
   "source": [
    "z = create_input(batch_size,z_size).to(device)\n",
    "fake_img = gnet(z)"
   ]
  },
  {
   "cell_type": "code",
   "execution_count": 36,
   "metadata": {},
   "outputs": [
    {
     "data": {
      "text/plain": [
       "<matplotlib.image.AxesImage at 0x7fab12225be0>"
      ]
     },
     "execution_count": 36,
     "metadata": {},
     "output_type": "execute_result"
    },
    {
     "data": {
      "image/png": "[encoded data removed]",
      "text/plain": [
       "<Figure size 640x480 with 1 Axes>"
      ]
     },
     "metadata": {},
     "output_type": "display_data"
    }
   ],
   "source": [
    "import matplotlib.pyplot as plt\n",
    "plt.imshow(topil(fake_img[0].clip(0,1)*255))"
   ]
  }
 ],
 "metadata": {
  "kernelspec": {
   "display_name": "Python 3.9.6 64-bit",
   "language": "python",
   "name": "python3"
  },
  "language_info": {
   "codemirror_mode": {
    "name": "ipython",
    "version": 3
   },
   "file_extension": ".py",
   "mimetype": "text/x-python",
   "name": "python",
   "nbconvert_exporter": "python",
   "pygments_lexer": "ipython3",
   "version": "3.9.6"
  },
  "orig_nbformat": 4,
  "vscode": {
   "interpreter": {
    "hash": "aee8b7b246df8f9039afb4144a1f6fd8d2ca17a180786b69acc140d282b71a49"
   }
  }
 },
 "nbformat": 4,
 "nbformat_minor": 2
}
