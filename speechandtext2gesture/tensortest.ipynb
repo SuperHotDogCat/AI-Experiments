{
 "cells": [
  {
   "cell_type": "code",
   "execution_count": 2,
   "metadata": {},
   "outputs": [
    {
     "data": {
      "text/plain": [
       "True"
      ]
     },
     "execution_count": 2,
     "metadata": {},
     "output_type": "execute_result"
    }
   ],
   "source": [
    "#tensorいじりのテストを行う\n",
    "import torch\n",
    "import torch.nn\n",
    "x = torch.randn(10,10,10)\n",
    "torch.cuda.is_available()"
   ]
  },
  {
   "cell_type": "code",
   "execution_count": 3,
   "metadata": {},
   "outputs": [],
   "source": [
    "def UpSampling1D(input):\n",
    "    repeats = [1 for _ in range(len(input.shape))]\n",
    "    repeats[1] = 2\n",
    "    return input.repeat(*repeats)"
   ]
  },
  {
   "cell_type": "code",
   "execution_count": 4,
   "metadata": {},
   "outputs": [
    {
     "data": {
      "text/plain": [
       "torch.Size([10, 20, 10])"
      ]
     },
     "execution_count": 4,
     "metadata": {},
     "output_type": "execute_result"
    }
   ],
   "source": [
    "UpSampling1D(x).shape"
   ]
  },
  {
   "cell_type": "code",
   "execution_count": 5,
   "metadata": {},
   "outputs": [
    {
     "name": "stderr",
     "output_type": "stream",
     "text": [
      "2023-10-18 15:30:44.969426: I tensorflow/core/util/port.cc:111] oneDNN custom operations are on. You may see slightly different numerical results due to floating-point round-off errors from different computation orders. To turn them off, set the environment variable `TF_ENABLE_ONEDNN_OPTS=0`.\n",
      "2023-10-18 15:30:45.001634: I tensorflow/tsl/cuda/cudart_stub.cc:28] Could not find cuda drivers on your machine, GPU will not be used.\n",
      "2023-10-18 15:30:45.171397: E tensorflow/compiler/xla/stream_executor/cuda/cuda_dnn.cc:9342] Unable to register cuDNN factory: Attempting to register factory for plugin cuDNN when one has already been registered\n",
      "2023-10-18 15:30:45.171461: E tensorflow/compiler/xla/stream_executor/cuda/cuda_fft.cc:609] Unable to register cuFFT factory: Attempting to register factory for plugin cuFFT when one has already been registered\n",
      "2023-10-18 15:30:45.172397: E tensorflow/compiler/xla/stream_executor/cuda/cuda_blas.cc:1518] Unable to register cuBLAS factory: Attempting to register factory for plugin cuBLAS when one has already been registered\n",
      "2023-10-18 15:30:45.251093: I tensorflow/core/platform/cpu_feature_guard.cc:182] This TensorFlow binary is optimized to use available CPU instructions in performance-critical operations.\n",
      "To enable the following instructions: AVX2 AVX_VNNI FMA, in other operations, rebuild TensorFlow with the appropriate compiler flags.\n",
      "2023-10-18 15:30:45.970566: W tensorflow/compiler/tf2tensorrt/utils/py_utils.cc:38] TF-TRT Warning: Could not find TensorRT\n"
     ]
    }
   ],
   "source": [
    "from audio_to_multiple_pose_gan.dataset import load_train, generate_batch, get_processor\n",
    "from audio_to_multiple_pose_gan.config import get_config"
   ]
  },
  {
   "cell_type": "code",
   "execution_count": 6,
   "metadata": {},
   "outputs": [
    {
     "name": "stdout",
     "output_type": "stream",
     "text": [
      "README.md\t\t    common\t      requirments.txt\n",
      "audio_to_multiple_pose_gan  data\t      speech2gesture\n",
      "cmd.txt\t\t\t    requirements.txt  tensortest.ipynb\n"
     ]
    }
   ],
   "source": [
    "!ls"
   ]
  },
  {
   "cell_type": "code",
   "execution_count": 7,
   "metadata": {},
   "outputs": [],
   "source": [
    "import pandas as pd\n",
    "from common.consts import AUDIO_SHAPE\n",
    "batch_size = 32\n",
    "train_csv: str = \"~/Desktop/AI-Experiments/Gestures/train.csv\"\n",
    "#df = pd.read_csv(self.args.train_csv)\n",
    "#cfg = get_config(self.args.config)\n",
    "df = pd.read_csv(train_csv)\n",
    "#cfg = get_config(config)\n",
    "cfg: dict = {\"processor\": \"audio_to_pose\", \"input_shape\": [None, AUDIO_SHAPE]}\n",
    "process_row, decode_pose = get_processor(cfg)\n",
    "train_generator, num_samples_train = load_train(process_row, batch_size, df, generate_batch, workers=8 ,max_queue_size=32)"
   ]
  },
  {
   "cell_type": "code",
   "execution_count": 8,
   "metadata": {},
   "outputs": [],
   "source": [
    "from common.consts import AUDIO_SHAPE\n",
    "configs = {\n",
    "    \"audio_to_pose\": {\"num_keypoints\": 98, \"processor\": \"audio_to_pose\", \"flatten\": False, \"input_shape\": [None, AUDIO_SHAPE]},\n",
    "    \"audio_to_pose_inference\": {\"num_keypoints\": 98, \"processor\": \"audio_to_pose_inference\", \"flatten\": False, \"input_shape\": [None, AUDIO_SHAPE]}\n",
    "}\n",
    "cfg: dict = {\"processor\": \"audio_to_pose\", \"input_shape\": [None, AUDIO_SHAPE]}\n",
    "process_row, decode_pose = get_processor(cfg)"
   ]
  },
  {
   "cell_type": "code",
   "execution_count": 9,
   "metadata": {},
   "outputs": [],
   "source": [
    "row = df.sample(n=1).iloc[0]"
   ]
  },
  {
   "cell_type": "code",
   "execution_count": 10,
   "metadata": {},
   "outputs": [
    {
     "data": {
      "text/plain": [
       "(array([ 0.0857432 ,  0.06959059,  0.05380889, ..., -0.13307016,\n",
       "        -0.17567194, -0.1759803 ], dtype=float32),\n",
       " array([[ 0.        , -1.17790806,  0.47608496, ...,  0.99890156,\n",
       "          1.0486113 ,  0.9934272 ],\n",
       "        [ 0.        , -1.17790806,  0.47608496, ...,  0.99890156,\n",
       "          1.03278918,  0.9934272 ],\n",
       "        [ 0.        , -1.17790806,  0.53136654, ...,  0.9665919 ,\n",
       "          1.0486113 ,  0.91562849],\n",
       "        ...,\n",
       "        [ 0.        , -0.84294202, -0.29785715, ...,  1.40277229,\n",
       "          1.03278918,  0.97786746],\n",
       "        [ 0.        , -0.67545901, -0.24257557, ...,  1.37046264,\n",
       "          1.03278918,  1.00898694],\n",
       "        [ 0.        , -0.67545901, -0.24257557, ...,  1.45123678,\n",
       "          1.42834229,  1.41354019]]))"
      ]
     },
     "execution_count": 10,
     "metadata": {},
     "output_type": "execute_result"
    }
   ],
   "source": [
    "process_row(row)"
   ]
  },
  {
   "cell_type": "code",
   "execution_count": 11,
   "metadata": {},
   "outputs": [],
   "source": [
    "X, Y = generate_batch(df, process_row, batch_size)"
   ]
  },
  {
   "cell_type": "code",
   "execution_count": 12,
   "metadata": {},
   "outputs": [
    {
     "data": {
      "text/plain": [
       "(32, 67267)"
      ]
     },
     "execution_count": 12,
     "metadata": {},
     "output_type": "execute_result"
    }
   ],
   "source": [
    "X.shape"
   ]
  },
  {
   "cell_type": "code",
   "execution_count": 13,
   "metadata": {},
   "outputs": [
    {
     "data": {
      "image/png": "[encoded data removed]",
      "text/plain": [
       "<Figure size 640x480 with 1 Axes>"
      ]
     },
     "metadata": {},
     "output_type": "display_data"
    }
   ],
   "source": [
    "import matplotlib.pyplot as plt\n",
    "plt.plot(X[0])\n",
    "plt.show()"
   ]
  },
  {
   "cell_type": "code",
   "execution_count": 20,
   "metadata": {},
   "outputs": [
    {
     "data": {
      "text/plain": [
       "array([[ 0.00720311,  0.00337859,  0.00044018, ..., -0.14350942,\n",
       "        -0.15190938, -0.15943381],\n",
       "       [ 0.00666435,  0.006397  ,  0.00506765, ..., -0.00036755,\n",
       "        -0.00028388, -0.00026738],\n",
       "       [-0.13219145, -0.13803767, -0.14654598, ..., -0.00659886,\n",
       "        -0.00527737, -0.00435241],\n",
       "       ...,\n",
       "       [-0.00850831, -0.00792165, -0.00813255, ..., -0.0027716 ,\n",
       "        -0.00235408, -0.00204493],\n",
       "       [ 0.03801936,  0.04189539,  0.04844862, ..., -0.00642193,\n",
       "        -0.00577461, -0.00600735],\n",
       "       [ 0.00247608,  0.00258865,  0.00215992, ...,  0.02363978,\n",
       "         0.02654152,  0.03548853]], dtype=float32)"
      ]
     },
     "execution_count": 20,
     "metadata": {},
     "output_type": "execute_result"
    }
   ],
   "source": [
    "X"
   ]
  },
  {
   "cell_type": "code",
   "execution_count": 145,
   "metadata": {},
   "outputs": [
    {
     "data": {
      "text/plain": [
       "(32, 67267)"
      ]
     },
     "execution_count": 145,
     "metadata": {},
     "output_type": "execute_result"
    }
   ],
   "source": [
    "X.shape"
   ]
  },
  {
   "cell_type": "code",
   "execution_count": 21,
   "metadata": {},
   "outputs": [
    {
     "name": "stderr",
     "output_type": "stream",
     "text": [
      "2023-10-17 17:19:16.463674: I tensorflow/compiler/xla/stream_executor/cuda/cuda_gpu_executor.cc:894] successful NUMA node read from SysFS had negative value (-1), but there must be at least one NUMA node, so returning NUMA node zero. See more at https://github.com/torvalds/linux/blob/v6.0/Documentation/ABI/testing/sysfs-bus-pci#L344-L355\n",
      "2023-10-17 17:19:16.464727: W tensorflow/core/common_runtime/gpu/gpu_device.cc:2211] Cannot dlopen some GPU libraries. Please make sure the missing libraries mentioned above are installed properly if you would like to use GPU. Follow the guide at https://www.tensorflow.org/install/gpu for how to download and setup the required libraries for your platform.\n",
      "Skipping registering GPU devices...\n"
     ]
    },
    {
     "data": {
      "text/plain": [
       "<tf.Tensor: shape=(32, 64, 1, 3), dtype=float32, numpy=\n",
       "array([[[[0.18551928, 0.4884659 , 0.89902973]],\n",
       "\n",
       "        [[0.22047102, 0.4907194 , 0.78779775]],\n",
       "\n",
       "        [[0.3183359 , 0.4970292 , 0.4763482 ]],\n",
       "\n",
       "        ...,\n",
       "\n",
       "        [[0.4103999 , 0.34626812, 0.7491024 ]],\n",
       "\n",
       "        [[0.59468997, 0.42685658, 0.741889  ]],\n",
       "\n",
       "        [[0.6605078 , 0.45563817, 0.73931277]]],\n",
       "\n",
       "\n",
       "       [[[0.20520805, 0.43555844, 0.56485736]],\n",
       "\n",
       "        [[0.22025362, 0.4447296 , 0.5291838 ]],\n",
       "\n",
       "        [[0.2623812 , 0.47040883, 0.42929775]],\n",
       "\n",
       "        ...,\n",
       "\n",
       "        [[0.37908548, 0.8776263 , 0.30896452]],\n",
       "\n",
       "        [[0.5297905 , 0.90128344, 0.44761425]],\n",
       "\n",
       "        [[0.58361375, 0.90973246, 0.497132  ]]],\n",
       "\n",
       "\n",
       "       [[[0.5474897 , 0.66156626, 0.5596739 ]],\n",
       "\n",
       "        [[0.5478985 , 0.63382375, 0.5457147 ]],\n",
       "\n",
       "        [[0.54904294, 0.55614465, 0.5066288 ]],\n",
       "\n",
       "        ...,\n",
       "\n",
       "        [[0.45677784, 0.42228633, 0.6088985 ]],\n",
       "\n",
       "        [[0.43707561, 0.5970459 , 0.6208307 ]],\n",
       "\n",
       "        [[0.4300391 , 0.65946007, 0.6250922 ]]],\n",
       "\n",
       "\n",
       "       ...,\n",
       "\n",
       "\n",
       "       [[[0.6274057 , 0.46884894, 0.3254105 ]],\n",
       "\n",
       "        [[0.5672244 , 0.47315088, 0.36542028]],\n",
       "\n",
       "        [[0.3987166 , 0.4851963 , 0.47744778]],\n",
       "\n",
       "        ...,\n",
       "\n",
       "        [[0.36119187, 0.5150525 , 0.6949849 ]],\n",
       "\n",
       "        [[0.24046655, 0.5932933 , 0.81997204]],\n",
       "\n",
       "        [[0.19735035, 0.62123644, 0.8646103 ]]],\n",
       "\n",
       "\n",
       "       [[[0.6027732 , 0.5997335 , 0.7666609 ]],\n",
       "\n",
       "        [[0.5938726 , 0.54564553, 0.7083037 ]],\n",
       "\n",
       "        [[0.56895095, 0.3941993 , 0.54490334]],\n",
       "\n",
       "        ...,\n",
       "\n",
       "        [[0.46760428, 0.515504  , 0.37051392]],\n",
       "\n",
       "        [[0.4342297 , 0.56436837, 0.611683  ]],\n",
       "\n",
       "        [[0.4223102 , 0.58181995, 0.6978148 ]]],\n",
       "\n",
       "\n",
       "       [[[0.6259929 , 0.76754963, 0.29953367]],\n",
       "\n",
       "        [[0.6549684 , 0.73499894, 0.3001009 ]],\n",
       "\n",
       "        [[0.7360998 , 0.643857  , 0.30168915]],\n",
       "\n",
       "        ...,\n",
       "\n",
       "        [[0.5290207 , 0.17641817, 0.41135624]],\n",
       "\n",
       "        [[0.49193937, 0.2286171 , 0.3895974 ]],\n",
       "\n",
       "        [[0.47869605, 0.24725959, 0.38182637]]]], dtype=float32)>"
      ]
     },
     "execution_count": 21,
     "metadata": {},
     "output_type": "execute_result"
    }
   ],
   "source": [
    "import tensorflow as tf\n",
    "import numpy as np\n",
    "\n",
    "noise = np.random.rand(32,28,28,3)\n",
    "tf.image.resize(noise, (64,1), method = tf.image.ResizeMethod.BILINEAR)"
   ]
  },
  {
   "cell_type": "code",
   "execution_count": 25,
   "metadata": {},
   "outputs": [],
   "source": [
    "from torchvision import transforms\n",
    "from torchvision.transforms import InterpolationMode\n",
    "resize = transforms.Resize((64,1), InterpolationMode.BILINEAR, antialias=True)"
   ]
  },
  {
   "cell_type": "code",
   "execution_count": 26,
   "metadata": {},
   "outputs": [
    {
     "data": {
      "text/plain": [
       "torch.Size([32, 3, 64, 1])"
      ]
     },
     "execution_count": 26,
     "metadata": {},
     "output_type": "execute_result"
    }
   ],
   "source": [
    "x = torch.randn(32,3,28,28)\n",
    "resize(x).shape"
   ]
  },
  {
   "cell_type": "code",
   "execution_count": 55,
   "metadata": {},
   "outputs": [],
   "source": [
    "import functools\n",
    "import tensorflow as tf\n",
    "\n",
    "\n",
    "def tf_mel_spectograms(x_audio):\n",
    "    stft = tf.signal.stft(\n",
    "        x_audio,\n",
    "        400,\n",
    "        160,\n",
    "        fft_length=512,\n",
    "        window_fn=functools.partial(tf.signal.hann_window, periodic=True),\n",
    "        pad_end=False,\n",
    "        name=None\n",
    "    )\n",
    "    print(stft.get_shape())\n",
    "    stft = tf.abs(stft)\n",
    "    print(stft.get_shape())\n",
    "    mel_spect_input = tf.signal.linear_to_mel_weight_matrix(\n",
    "        num_mel_bins=64,\n",
    "        num_spectrogram_bins=tf.shape(stft)[2],\n",
    "        sample_rate=16000,\n",
    "        lower_edge_hertz=125.0,\n",
    "        upper_edge_hertz=7500.0,\n",
    "        dtype=tf.float32,\n",
    "        name=None\n",
    "    )\n",
    "    print(mel_spect_input.shape)\n",
    "    input_data = tf.tensordot(stft, mel_spect_input, 1)\n",
    "    input_data = tf.math.log(input_data + 1e-6)\n",
    "    input_data = tf.expand_dims(input_data, -1)\n",
    "    return input_data"
   ]
  },
  {
   "cell_type": "code",
   "execution_count": 56,
   "metadata": {},
   "outputs": [
    {
     "name": "stdout",
     "output_type": "stream",
     "text": [
      "(32, 418, 257)\n",
      "(32, 418, 257)\n",
      "(257, 64)\n"
     ]
    },
    {
     "data": {
      "text/plain": [
       "<tf.Tensor: shape=(32, 418, 64, 1), dtype=float32, numpy=\n",
       "array([[[[-0.00744491],\n",
       "         [-1.4908255 ],\n",
       "         [-0.2683074 ],\n",
       "         ...,\n",
       "         [-3.3259177 ],\n",
       "         [-2.7499185 ],\n",
       "         [-2.9428968 ]],\n",
       "\n",
       "        [[-0.52171344],\n",
       "         [-1.4583683 ],\n",
       "         [-0.98553556],\n",
       "         ...,\n",
       "         [-3.9075015 ],\n",
       "         [-3.4354675 ],\n",
       "         [-3.3433964 ]],\n",
       "\n",
       "        [[-1.412768  ],\n",
       "         [-1.4532514 ],\n",
       "         [-2.214619  ],\n",
       "         ...,\n",
       "         [-4.310933  ],\n",
       "         [-4.648402  ],\n",
       "         [-4.790809  ]],\n",
       "\n",
       "        ...,\n",
       "\n",
       "        [[ 1.1879959 ],\n",
       "         [ 0.627062  ],\n",
       "         [-1.1588726 ],\n",
       "         ...,\n",
       "         [-1.050248  ],\n",
       "         [-0.92550856],\n",
       "         [-0.85559607]],\n",
       "\n",
       "        [[ 0.94825816],\n",
       "         [ 0.49553174],\n",
       "         [-0.8121458 ],\n",
       "         ...,\n",
       "         [-0.51040626],\n",
       "         [-0.3865007 ],\n",
       "         [-0.45385313]],\n",
       "\n",
       "        [[ 0.8995026 ],\n",
       "         [ 0.11460755],\n",
       "         [-1.1058495 ],\n",
       "         ...,\n",
       "         [-1.3136654 ],\n",
       "         [-0.71459854],\n",
       "         [-0.4627528 ]]],\n",
       "\n",
       "\n",
       "       [[[ 0.91442204],\n",
       "         [ 1.6342717 ],\n",
       "         [ 1.589814  ],\n",
       "         ...,\n",
       "         [-0.92795455],\n",
       "         [-1.2621901 ],\n",
       "         [-1.6198368 ]],\n",
       "\n",
       "        [[ 1.1330202 ],\n",
       "         [ 1.779099  ],\n",
       "         [ 1.7023476 ],\n",
       "         ...,\n",
       "         [-0.49854487],\n",
       "         [-1.2011797 ],\n",
       "         [-1.2878133 ]],\n",
       "\n",
       "        [[ 1.11959   ],\n",
       "         [ 1.8238722 ],\n",
       "         [ 1.7415576 ],\n",
       "         ...,\n",
       "         [-1.0436916 ],\n",
       "         [-1.375227  ],\n",
       "         [-0.88700193]],\n",
       "\n",
       "        ...,\n",
       "\n",
       "        [[ 0.9813485 ],\n",
       "         [ 0.44521   ],\n",
       "         [ 1.3854848 ],\n",
       "         ...,\n",
       "         [-0.37585998],\n",
       "         [-0.82586175],\n",
       "         [-0.683041  ]],\n",
       "\n",
       "        [[ 1.0861365 ],\n",
       "         [ 0.6203247 ],\n",
       "         [ 1.2162715 ],\n",
       "         ...,\n",
       "         [-0.7715011 ],\n",
       "         [-1.2611619 ],\n",
       "         [-1.4809464 ]],\n",
       "\n",
       "        [[ 1.3324908 ],\n",
       "         [ 0.68587756],\n",
       "         [ 0.87124175],\n",
       "         ...,\n",
       "         [-0.61626184],\n",
       "         [-0.9134001 ],\n",
       "         [-0.466107  ]]],\n",
       "\n",
       "\n",
       "       [[[-3.5592306 ],\n",
       "         [-5.939037  ],\n",
       "         [-3.9979384 ],\n",
       "         ...,\n",
       "         [-0.8576246 ],\n",
       "         [-1.2287003 ],\n",
       "         [-0.72837836]],\n",
       "\n",
       "        [[-2.9224331 ],\n",
       "         [-2.7851748 ],\n",
       "         [-2.4133048 ],\n",
       "         ...,\n",
       "         [-1.3184769 ],\n",
       "         [-1.2943054 ],\n",
       "         [-0.830894  ]],\n",
       "\n",
       "        [[-2.4040427 ],\n",
       "         [-3.4480834 ],\n",
       "         [-3.5719604 ],\n",
       "         ...,\n",
       "         [-1.7758181 ],\n",
       "         [-1.9585583 ],\n",
       "         [-1.4958048 ]],\n",
       "\n",
       "        ...,\n",
       "\n",
       "        [[-4.885046  ],\n",
       "         [-4.451456  ],\n",
       "         [-2.903162  ],\n",
       "         ...,\n",
       "         [-0.52335095],\n",
       "         [-0.0790437 ],\n",
       "         [-0.4835498 ]],\n",
       "\n",
       "        [[-2.9125865 ],\n",
       "         [-2.921699  ],\n",
       "         [-3.0417895 ],\n",
       "         ...,\n",
       "         [-0.8228451 ],\n",
       "         [ 0.08108648],\n",
       "         [ 0.01320133]],\n",
       "\n",
       "        [[-1.8963978 ],\n",
       "         [-1.8177872 ],\n",
       "         [-1.5381677 ],\n",
       "         ...,\n",
       "         [-0.66694546],\n",
       "         [-0.35317755],\n",
       "         [-0.657985  ]]],\n",
       "\n",
       "\n",
       "       ...,\n",
       "\n",
       "\n",
       "       [[[ 0.21623883],\n",
       "         [ 1.3116286 ],\n",
       "         [ 1.5213779 ],\n",
       "         ...,\n",
       "         [-3.6044736 ],\n",
       "         [-3.3504887 ],\n",
       "         [-3.5178738 ]],\n",
       "\n",
       "        [[ 0.45198444],\n",
       "         [ 1.2432208 ],\n",
       "         [ 1.2812111 ],\n",
       "         ...,\n",
       "         [-2.4752152 ],\n",
       "         [-2.3191907 ],\n",
       "         [-2.0340145 ]],\n",
       "\n",
       "        [[ 0.8331773 ],\n",
       "         [ 1.101924  ],\n",
       "         [ 0.6954802 ],\n",
       "         ...,\n",
       "         [-0.8866622 ],\n",
       "         [-1.1624393 ],\n",
       "         [-1.2213678 ]],\n",
       "\n",
       "        ...,\n",
       "\n",
       "        [[-1.9305735 ],\n",
       "         [-1.8612173 ],\n",
       "         [-1.8344122 ],\n",
       "         ...,\n",
       "         [ 0.07534472],\n",
       "         [-0.22164026],\n",
       "         [-0.10743807]],\n",
       "\n",
       "        [[-3.0886807 ],\n",
       "         [-2.9301112 ],\n",
       "         [-2.340857  ],\n",
       "         ...,\n",
       "         [-0.4867078 ],\n",
       "         [-0.7249179 ],\n",
       "         [-0.15982474]],\n",
       "\n",
       "        [[-0.2731474 ],\n",
       "         [ 0.03974644],\n",
       "         [ 0.08173911],\n",
       "         ...,\n",
       "         [-0.9312972 ],\n",
       "         [-0.5016326 ],\n",
       "         [-0.13317198]]],\n",
       "\n",
       "\n",
       "       [[[-2.631859  ],\n",
       "         [-1.4899797 ],\n",
       "         [ 0.40309903],\n",
       "         ...,\n",
       "         [-1.6433508 ],\n",
       "         [-1.5571426 ],\n",
       "         [-2.5698507 ]],\n",
       "\n",
       "        [[-2.248113  ],\n",
       "         [-1.8531988 ],\n",
       "         [-0.0720832 ],\n",
       "         ...,\n",
       "         [-1.4706471 ],\n",
       "         [-1.70737   ],\n",
       "         [-2.9161572 ]],\n",
       "\n",
       "        [[-2.200465  ],\n",
       "         [-1.7642248 ],\n",
       "         [-0.22288235],\n",
       "         ...,\n",
       "         [-1.5255632 ],\n",
       "         [-1.8257923 ],\n",
       "         [-3.0911684 ]],\n",
       "\n",
       "        ...,\n",
       "\n",
       "        [[-0.11481956],\n",
       "         [-0.33225182],\n",
       "         [-0.76321894],\n",
       "         ...,\n",
       "         [ 0.05793615],\n",
       "         [-0.1140206 ],\n",
       "         [ 0.21385044]],\n",
       "\n",
       "        [[ 1.3467296 ],\n",
       "         [ 1.6315194 ],\n",
       "         [ 1.4641103 ],\n",
       "         ...,\n",
       "         [-0.46858138],\n",
       "         [-0.4775706 ],\n",
       "         [-0.35173607]],\n",
       "\n",
       "        [[ 1.570064  ],\n",
       "         [ 1.8396692 ],\n",
       "         [ 1.3693441 ],\n",
       "         ...,\n",
       "         [-0.15267974],\n",
       "         [-0.81315404],\n",
       "         [-0.6331987 ]]],\n",
       "\n",
       "\n",
       "       [[[-2.755332  ],\n",
       "         [-3.2018092 ],\n",
       "         [-2.5429199 ],\n",
       "         ...,\n",
       "         [-1.7293856 ],\n",
       "         [-2.229447  ],\n",
       "         [-2.3958037 ]],\n",
       "\n",
       "        [[-2.9843807 ],\n",
       "         [-4.6241465 ],\n",
       "         [-2.8220184 ],\n",
       "         ...,\n",
       "         [-1.8214802 ],\n",
       "         [-2.4313192 ],\n",
       "         [-1.9928534 ]],\n",
       "\n",
       "        [[-2.5273635 ],\n",
       "         [-2.6638455 ],\n",
       "         [-3.0856547 ],\n",
       "         ...,\n",
       "         [-2.5030718 ],\n",
       "         [-2.9947538 ],\n",
       "         [-2.680771  ]],\n",
       "\n",
       "        ...,\n",
       "\n",
       "        [[-1.5999925 ],\n",
       "         [-1.830775  ],\n",
       "         [-1.9701041 ],\n",
       "         ...,\n",
       "         [-0.6408386 ],\n",
       "         [-0.33472225],\n",
       "         [-0.4496233 ]],\n",
       "\n",
       "        [[-1.2919693 ],\n",
       "         [-1.6417085 ],\n",
       "         [-2.4059951 ],\n",
       "         ...,\n",
       "         [ 0.3799433 ],\n",
       "         [ 0.28311855],\n",
       "         [ 0.6427081 ]],\n",
       "\n",
       "        [[-0.8960663 ],\n",
       "         [-1.0270847 ],\n",
       "         [-1.992843  ],\n",
       "         ...,\n",
       "         [ 0.54062873],\n",
       "         [ 0.7599822 ],\n",
       "         [ 1.0244501 ]]]], dtype=float32)>"
      ]
     },
     "execution_count": 56,
     "metadata": {},
     "output_type": "execute_result"
    }
   ],
   "source": [
    "tf_mel_spectograms(X)"
   ]
  },
  {
   "cell_type": "code",
   "execution_count": 73,
   "metadata": {},
   "outputs": [],
   "source": [
    "from einops import rearrange\n",
    "import librosa\n",
    "def torch_mel_spectograms(X_audio):\n",
    "    if not isinstance(X_audio, torch.Tensor):\n",
    "        X_audio = torch.tensor(X_audio)\n",
    "    n_fft = 512\n",
    "    win_length = 400\n",
    "    hop_length = 160\n",
    "    stft = torch.stft(X_audio, window=torch.hann_window(window_length=win_length), win_length = win_length, n_fft=n_fft, return_complex=True, hop_length=hop_length, center=False)\n",
    "    stft = torch.abs(stft)\n",
    "    stft = rearrange(stft, \"a b c->a c b\")\n",
    "    \n",
    "    return stft"
   ]
  },
  {
   "cell_type": "code",
   "execution_count": 69,
   "metadata": {},
   "outputs": [
    {
     "data": {
      "text/plain": [
       "torch.Size([32, 257, 418])"
      ]
     },
     "execution_count": 69,
     "metadata": {},
     "output_type": "execute_result"
    }
   ],
   "source": [
    "torch.stft(torch.tensor(X), window=torch.hann_window(window_length=400),n_fft=512, return_complex=True, win_length = 400, hop_length=160, center=False).shape"
   ]
  },
  {
   "cell_type": "code",
   "execution_count": 72,
   "metadata": {},
   "outputs": [
    {
     "data": {
      "text/plain": [
       "tensor([[[1.0409e-01, 8.9491e-02, 3.7756e-01,  ..., 1.0699e-06,\n",
       "          1.6049e-07, 1.4901e-07],\n",
       "         [1.5325e-01, 1.5362e-01, 4.2988e-01,  ..., 1.3959e-06,\n",
       "          5.1155e-07, 2.3842e-07],\n",
       "         [2.9549e-01, 3.2930e-01, 2.4565e-01,  ..., 6.7076e-07,\n",
       "          2.2152e-07, 2.9802e-08],\n",
       "         ...,\n",
       "         [2.6863e-01, 3.0610e-01, 3.2170e-01,  ..., 9.7504e-06,\n",
       "          2.4006e-05, 7.5996e-06],\n",
       "         [3.7492e-01, 2.2656e-01, 1.6966e-01,  ..., 4.3882e-05,\n",
       "          1.5963e-05, 8.3447e-07],\n",
       "         [9.0013e-02, 1.4349e-01, 2.5702e-01,  ..., 3.3583e-05,\n",
       "          1.6157e-05, 9.5665e-06]],\n",
       "\n",
       "        [[7.6996e-02, 2.2549e-01, 3.6451e-01,  ..., 1.1276e-05,\n",
       "          1.4507e-05, 1.7017e-05],\n",
       "         [1.7999e-01, 1.6771e-01, 1.8324e-01,  ..., 3.0439e-05,\n",
       "          1.6706e-05, 9.4175e-06],\n",
       "         [1.4917e-01, 3.0875e-01, 2.9205e-01,  ..., 4.0712e-05,\n",
       "          3.3836e-05, 1.3173e-05],\n",
       "         ...,\n",
       "         [1.8226e-01, 3.5193e-01, 1.0029e+00,  ..., 1.4883e-05,\n",
       "          6.9702e-06, 5.7966e-06],\n",
       "         [6.3093e-02, 2.7094e-01, 1.1075e+00,  ..., 4.4120e-05,\n",
       "          7.9278e-06, 5.9381e-06],\n",
       "         [3.6825e-01, 3.9651e-01, 1.8591e+00,  ..., 5.2389e-05,\n",
       "          1.5102e-05, 1.5199e-06]],\n",
       "\n",
       "        [[1.0045e-01, 4.2302e-02, 1.0935e-01,  ..., 4.7440e-05,\n",
       "          1.7549e-05, 8.4490e-06],\n",
       "         [1.1849e-02, 2.1948e-01, 3.0141e-01,  ..., 7.0974e-05,\n",
       "          2.2642e-05, 8.9649e-06],\n",
       "         [3.2411e-02, 2.0523e-01, 3.4717e-01,  ..., 1.5831e-05,\n",
       "          1.1386e-05, 6.6217e-06],\n",
       "         ...,\n",
       "         [6.8086e-02, 1.1211e-01, 1.5133e-01,  ..., 1.3430e-04,\n",
       "          8.8052e-05, 5.8286e-05],\n",
       "         [2.8307e-03, 4.3081e-02, 9.0944e-02,  ..., 1.6829e-04,\n",
       "          7.7650e-05, 3.1745e-05],\n",
       "         [3.2284e-02, 7.5825e-02, 7.8418e-02,  ..., 8.0793e-05,\n",
       "          7.7581e-05, 4.3873e-05]],\n",
       "\n",
       "        ...,\n",
       "\n",
       "        [[1.6915e-02, 4.8261e-02, 1.3757e-01,  ..., 2.8558e-05,\n",
       "          2.0065e-05, 1.9426e-05],\n",
       "         [1.2002e-01, 1.1637e-01, 1.3456e-01,  ..., 4.7883e-05,\n",
       "          1.8200e-05, 6.4261e-06],\n",
       "         [9.9673e-02, 1.0100e-01, 1.9777e-02,  ..., 9.1063e-05,\n",
       "          1.2483e-05, 7.2941e-06],\n",
       "         ...,\n",
       "         [4.5028e-02, 1.3800e-01, 2.1226e-01,  ..., 1.3515e-04,\n",
       "          5.7754e-05, 3.4437e-05],\n",
       "         [1.9392e-01, 2.4014e-01, 2.0844e-01,  ..., 4.2204e-05,\n",
       "          1.0229e-04, 5.9962e-05],\n",
       "         [1.3889e-01, 2.1685e-01, 2.4059e-01,  ..., 1.0158e-04,\n",
       "          3.6568e-05, 1.4231e-06]],\n",
       "\n",
       "        [[2.4269e-01, 1.4606e-01, 7.0685e-03,  ..., 2.0533e-05,\n",
       "          2.3019e-05, 9.5367e-06],\n",
       "         [2.3132e-01, 1.7906e-01, 7.7225e-02,  ..., 1.6556e-05,\n",
       "          1.0052e-05, 9.4771e-06],\n",
       "         [1.5427e-02, 7.5785e-02, 1.0059e-01,  ..., 1.3478e-05,\n",
       "          9.9134e-06, 6.5155e-06],\n",
       "         ...,\n",
       "         [1.6143e-03, 3.5733e-01, 7.1299e-01,  ..., 1.1961e-04,\n",
       "          6.6306e-05, 4.7131e-05],\n",
       "         [2.2173e-01, 2.2206e-01, 6.1784e-01,  ..., 1.0316e-04,\n",
       "          7.1191e-05, 1.7583e-06],\n",
       "         [4.8931e-01, 6.1503e-01, 6.9401e-01,  ..., 5.5439e-05,\n",
       "          1.5327e-06, 8.8662e-06]],\n",
       "\n",
       "        [[6.6592e-02, 1.5250e-01, 2.3334e-01,  ..., 4.4648e-06,\n",
       "          5.0475e-06, 2.8051e-06],\n",
       "         [1.2175e-01, 2.2715e-01, 2.4854e-01,  ..., 1.8035e-06,\n",
       "          2.1101e-06, 1.9222e-06],\n",
       "         [6.9661e-02, 1.8842e-01, 2.4087e-01,  ..., 3.9795e-06,\n",
       "          2.8194e-06, 1.3523e-06],\n",
       "         ...,\n",
       "         [3.9059e-02, 1.3411e-01, 2.0679e-01,  ..., 2.6506e-04,\n",
       "          1.7898e-04, 1.5741e-04],\n",
       "         [6.5013e-02, 7.7012e-02, 1.1788e-01,  ..., 1.8491e-04,\n",
       "          4.8588e-05, 1.5065e-05],\n",
       "         [9.1390e-03, 7.3036e-03, 6.5389e-02,  ..., 2.2156e-04,\n",
       "          1.1267e-04, 1.0250e-04]]])"
      ]
     },
     "execution_count": 72,
     "metadata": {},
     "output_type": "execute_result"
    }
   ],
   "source": [
    "torch_mel_spectograms(X)"
   ]
  },
  {
   "cell_type": "code",
   "execution_count": null,
   "metadata": {},
   "outputs": [],
   "source": [
    "import torchaudio\n",
    "torchaudio.functional.melscale_fbanks(n_freqs=16000, n_mels=64)"
   ]
  }
 ],
 "metadata": {
  "kernelspec": {
   "display_name": "Python 3.9.6 64-bit",
   "language": "python",
   "name": "python3"
  },
  "language_info": {
   "codemirror_mode": {
    "name": "ipython",
    "version": 3
   },
   "file_extension": ".py",
   "mimetype": "text/x-python",
   "name": "python",
   "nbconvert_exporter": "python",
   "pygments_lexer": "ipython3",
   "version": "3.10.12"
  },
  "orig_nbformat": 4,
  "vscode": {
   "interpreter": {
    "hash": "aee8b7b246df8f9039afb4144a1f6fd8d2ca17a180786b69acc140d282b71a49"
   }
  }
 },
 "nbformat": 4,
 "nbformat_minor": 2
}
