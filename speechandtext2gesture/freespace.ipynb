{
 "cells": [
  {
   "cell_type": "code",
   "execution_count": 1,
   "metadata": {},
   "outputs": [
    {
     "name": "stdout",
     "output_type": "stream",
     "text": [
      "True\n"
     ]
    }
   ],
   "source": [
    "#tensorいじりのテストを行う\n",
    "import torch\n",
    "import torch.nn\n",
    "x = torch.randn(10,10,10)\n",
    "print(torch.cuda.is_available())\n",
    "from audio_to_multiple_pose_gan.dataset import generate_batch, get_processor\n",
    "from audio_to_multiple_pose_gan.config import get_config\n",
    "import warnings\n",
    "warnings.simplefilter('ignore')"
   ]
  },
  {
   "cell_type": "code",
   "execution_count": 2,
   "metadata": {},
   "outputs": [],
   "source": [
    "import pandas as pd\n",
    "from common.consts import AUDIO_SHAPE\n",
    "batch_size = 32\n",
    "train_csv: str = \"~/Desktop/AI-Experiments/speechandtext2gesture/Gestures/train.csv\"\n",
    "#train_csv: str = \"~/AI-Experiments/speechandtext2gesture/Gestures/train.csv\"\n",
    "#df = pd.read_csv(self.args.train_csv)\n",
    "#cfg = get_config(self.args.config)\n",
    "df = pd.read_csv(train_csv)\n",
    "#cfg = get_config(config)\n",
    "cfg: dict = {\"processor\": \"audio_to_pose\", \"input_shape\": [None, AUDIO_SHAPE]}\n",
    "process_row, decode_pose = get_processor(cfg)"
   ]
  },
  {
   "cell_type": "code",
   "execution_count": 3,
   "metadata": {},
   "outputs": [],
   "source": [
    "from common.consts import AUDIO_SHAPE\n",
    "configs = {\n",
    "    \"audio_to_pose\": {\"num_keypoints\": 98, \"processor\": \"audio_to_pose\", \"flatten\": False, \"input_shape\": [None, AUDIO_SHAPE]},\n",
    "    \"audio_to_pose_inference\": {\"num_keypoints\": 98, \"processor\": \"audio_to_pose_inference\", \"flatten\": False, \"input_shape\": [None, AUDIO_SHAPE]}\n",
    "}\n",
    "cfg: dict = {\"processor\": \"audio_to_pose\", \"input_shape\": [None, AUDIO_SHAPE]}\n",
    "process_row, decode_pose = get_processor(cfg)"
   ]
  },
  {
   "cell_type": "code",
   "execution_count": 4,
   "metadata": {},
   "outputs": [],
   "source": [
    "row = df.sample(n=1).iloc[0]\n",
    "X, Y = generate_batch(df, process_row, batch_size)"
   ]
  },
  {
   "cell_type": "code",
   "execution_count": 5,
   "metadata": {},
   "outputs": [
    {
     "data": {
      "text/plain": [
       "(32, 64, 98)"
      ]
     },
     "execution_count": 5,
     "metadata": {},
     "output_type": "execute_result"
    }
   ],
   "source": [
    "Y.shape"
   ]
  },
  {
   "cell_type": "code",
   "execution_count": 6,
   "metadata": {},
   "outputs": [
    {
     "data": {
      "text/plain": [
       "(32, 67267)"
      ]
     },
     "execution_count": 6,
     "metadata": {},
     "output_type": "execute_result"
    }
   ],
   "source": [
    "X.shape"
   ]
  },
  {
   "cell_type": "code",
   "execution_count": 7,
   "metadata": {},
   "outputs": [
    {
     "data": {
      "text/plain": [
       "dataset                                                    train\n",
       "start                                            00:19:47.020354\n",
       "end                                              00:19:51.224558\n",
       "interval_id                                                  159\n",
       "pose_fn        Gestures/shelly/train/npz/159-00:19:47.020354-...\n",
       "audio_fn       Gestures/shelly/train/audio/159-00:19:33.34000...\n",
       "video_fn       17._The_badness_of_death_Part_II_-_The_depriva...\n",
       "speaker                                                   shelly\n",
       "Name: 63912, dtype: object"
      ]
     },
     "execution_count": 7,
     "metadata": {},
     "output_type": "execute_result"
    }
   ],
   "source": [
    "df.sample(n=1).iloc[0]"
   ]
  },
  {
   "cell_type": "code",
   "execution_count": 8,
   "metadata": {},
   "outputs": [
    {
     "data": {
      "text/plain": [
       "torch.Size([32, 64, 98])"
      ]
     },
     "execution_count": 8,
     "metadata": {},
     "output_type": "execute_result"
    }
   ],
   "source": [
    "from audio_to_multiple_pose_gan.static_model_factory import *\n",
    "a2p = Audio2Pose(1, 98).to(device)\n",
    "a2p(torch.tensor(X).float().to(device)).shape"
   ]
  },
  {
   "cell_type": "code",
   "execution_count": 9,
   "metadata": {},
   "outputs": [
    {
     "data": {
      "text/plain": [
       "(32, 64, 98)"
      ]
     },
     "execution_count": 9,
     "metadata": {},
     "output_type": "execute_result"
    }
   ],
   "source": [
    "Y.shape"
   ]
  },
  {
   "cell_type": "code",
   "execution_count": 10,
   "metadata": {},
   "outputs": [],
   "source": [
    "d_patchgan = D_patchgan(in_channels=64)"
   ]
  },
  {
   "cell_type": "code",
   "execution_count": 11,
   "metadata": {},
   "outputs": [
    {
     "data": {
      "text/plain": [
       "(32, 64, 98)"
      ]
     },
     "execution_count": 11,
     "metadata": {},
     "output_type": "execute_result"
    }
   ],
   "source": [
    "Y.shape"
   ]
  },
  {
   "cell_type": "code",
   "execution_count": 12,
   "metadata": {},
   "outputs": [
    {
     "data": {
      "text/plain": [
       "(32, 64, 98)"
      ]
     },
     "execution_count": 12,
     "metadata": {},
     "output_type": "execute_result"
    }
   ],
   "source": [
    "Y.shape"
   ]
  },
  {
   "cell_type": "code",
   "execution_count": 13,
   "metadata": {},
   "outputs": [
    {
     "data": {
      "text/plain": [
       "(32, 63, 98)"
      ]
     },
     "execution_count": 13,
     "metadata": {},
     "output_type": "execute_result"
    }
   ],
   "source": [
    "from audio_to_multiple_pose_gan.torch_layers import *\n",
    "to_motion_delta(Y).shape"
   ]
  },
  {
   "cell_type": "code",
   "execution_count": 14,
   "metadata": {},
   "outputs": [],
   "source": [
    "Y = torch.tensor(Y).float().to(device)"
   ]
  },
  {
   "cell_type": "code",
   "execution_count": 15,
   "metadata": {},
   "outputs": [],
   "source": [
    "a2p = Audio2PoseGANS(1, 98).to(device)\n",
    "pred_Y = a2p(torch.tensor(X).float().to(device))"
   ]
  },
  {
   "cell_type": "code",
   "execution_count": 16,
   "metadata": {},
   "outputs": [
    {
     "data": {
      "text/plain": [
       "tensor(0.7741, device='cuda:0', grad_fn=<MeanBackward0>)"
      ]
     },
     "execution_count": 16,
     "metadata": {},
     "output_type": "execute_result"
    }
   ],
   "source": [
    "keypoints_regloss(Y, pred_Y, regloss_type=\"l1\")"
   ]
  },
  {
   "cell_type": "code",
   "execution_count": 17,
   "metadata": {},
   "outputs": [],
   "source": [
    "from audio_to_multiple_pose_gan.config import get_config\n",
    "from audio_to_multiple_pose_gan.dataset import generate_batch, get_processor\n",
    "#get_modelの実装は任せる\n",
    "from audio_to_multiple_pose_gan.static_model_factory import Audio2PoseGANS, D_patchgan\n",
    "from audio_to_multiple_pose_gan.static_model_factory import Audio2PoseGANSTransformer\n",
    "from audio_to_multiple_pose_gan.torch_layers import to_motion_delta, keypoints_to_train, keypoints_regloss\n",
    "from common.audio_lib import save_audio_sample\n",
    "from common.audio_repr import raw_repr\n",
    "from common.consts import RIGHT_BODY_KEYPOINTS, LEFT_BODY_KEYPOINTS, LEFT_HAND_KEYPOINTS, \\\n",
    "    RIGHT_HAND_KEYPOINTS, POSE_SAMPLE_SHAPE, G_SCOPE, D_SCOPE, SR, FRAMES_PER_SAMPLE, AUDIO_SHAPE\n",
    "from common.evaluation import compute_pck\n",
    "from common.pose_logic_lib import translate_keypoints, get_sample_output_by_config\n",
    "from common.pose_plot_lib import save_side_by_side_video, save_video_from_audio_video\n",
    "from torch import optim\n",
    "import torch\n",
    "import pandas as pd\n",
    "import argparse\n",
    "from torch import nn\n",
    "\n",
    "def get_training_keypoints():\n",
    "    training_keypoints = []\n",
    "    training_keypoints.extend(RIGHT_BODY_KEYPOINTS)\n",
    "    training_keypoints.extend(LEFT_BODY_KEYPOINTS)\n",
    "    for i in range(5):\n",
    "        training_keypoints.extend(RIGHT_HAND_KEYPOINTS(i))\n",
    "        training_keypoints.extend(LEFT_HAND_KEYPOINTS(i))\n",
    "    training_keypoints = sorted(list(set(training_keypoints)))\n",
    "    return training_keypoints"
   ]
  },
  {
   "cell_type": "code",
   "execution_count": 18,
   "metadata": {},
   "outputs": [],
   "source": [
    "poses = decode_pose(Y.cpu().numpy()[0], shift = [0,0], speaker=\"shelly\")"
   ]
  },
  {
   "cell_type": "code",
   "execution_count": 19,
   "metadata": {},
   "outputs": [],
   "source": [
    "G_model = Audio2PoseGANSTransformer(1, 98).to(device)"
   ]
  },
  {
   "cell_type": "code",
   "execution_count": 20,
   "metadata": {},
   "outputs": [],
   "source": [
    "state_dict = torch.load(\"params/G_model_last.pth\")"
   ]
  },
  {
   "cell_type": "code",
   "execution_count": 21,
   "metadata": {},
   "outputs": [],
   "source": [
    "from collections import OrderedDict\n",
    "param_dict = OrderedDict()\n",
    "for key in state_dict:\n",
    "    param_dict[key.replace(\"_orig_mod.\",\"\")] = state_dict[key]"
   ]
  },
  {
   "cell_type": "code",
   "execution_count": 22,
   "metadata": {},
   "outputs": [
    {
     "data": {
      "text/plain": [
       "tensor([[[-0.1909, -0.0718,  0.3732,  ...,  0.0919,  0.2334, -0.1474],\n",
       "         [-0.1898, -0.1460, -0.0190,  ..., -0.1023,  0.4728,  0.4190],\n",
       "         [ 0.3253, -0.3330,  0.6255,  ...,  0.1428,  0.4928,  0.2183],\n",
       "         ...,\n",
       "         [ 0.6822, -0.5046,  0.3550,  ...,  0.2125,  0.1474,  0.1614],\n",
       "         [ 0.4125, -0.4230,  0.3236,  ..., -0.7149,  0.1827,  0.4612],\n",
       "         [ 0.6814, -0.0091, -0.2126,  ...,  0.0538, -0.2648,  0.2698]],\n",
       "\n",
       "        [[ 0.2577, -0.2946, -0.0313,  ...,  0.3618,  0.2569,  0.0670],\n",
       "         [ 0.2711, -0.1868, -0.3613,  ..., -0.1652, -0.3742, -0.1795],\n",
       "         [ 0.3937, -0.0010, -0.1174,  ..., -0.8267, -0.3643,  0.1580],\n",
       "         ...,\n",
       "         [ 0.4137, -0.5900, -0.6363,  ..., -0.0612,  0.4452,  1.0174],\n",
       "         [-0.1192,  0.1979, -0.6025,  ..., -0.1687, -0.2689,  0.1908],\n",
       "         [-0.1339, -0.3159, -0.1721,  ..., -0.2002, -0.0370, -0.0074]],\n",
       "\n",
       "        [[ 0.3284,  0.0037,  0.5881,  ..., -0.1123,  0.1763, -0.1282],\n",
       "         [ 0.2052,  0.3829,  0.0132,  ...,  0.0633, -0.2878,  0.0218],\n",
       "         [ 0.2840, -0.2106, -0.5480,  ...,  0.2027, -0.1382,  0.7491],\n",
       "         ...,\n",
       "         [ 0.6671,  0.7324, -0.7332,  ...,  0.1545, -0.0487,  0.9393],\n",
       "         [-0.2679, -0.5007,  0.2314,  ..., -0.0410,  0.1542,  0.3467],\n",
       "         [ 0.2624, -0.4381, -0.2628,  ...,  0.1170,  0.4751,  0.0943]],\n",
       "\n",
       "        ...,\n",
       "\n",
       "        [[ 0.1655,  0.0781,  0.1094,  ...,  0.3192, -0.0958, -0.3425],\n",
       "         [-0.0366, -0.0772,  0.5001,  ..., -0.4086,  0.0182, -0.1267],\n",
       "         [-0.1855,  0.0103,  0.4599,  ..., -0.7677, -0.3000,  0.0844],\n",
       "         ...,\n",
       "         [-0.6445,  0.1224,  0.3020,  ...,  0.2878, -0.3023,  0.5795],\n",
       "         [-0.5141, -0.5836,  0.2312,  ..., -0.2155,  0.5121,  0.4405],\n",
       "         [ 0.1206, -0.2749, -0.0611,  ...,  0.2893,  0.4661,  0.1173]],\n",
       "\n",
       "        [[ 0.4228, -0.0883, -0.0748,  ..., -0.0162,  0.8126,  0.3295],\n",
       "         [ 0.2640, -0.4768, -0.2619,  ...,  0.1351, -0.0066,  0.5726],\n",
       "         [ 0.3549, -0.5023, -0.1878,  ...,  0.6219,  0.3327,  0.5538],\n",
       "         ...,\n",
       "         [ 0.3178,  0.0990,  0.0606,  ...,  0.0442, -0.3335,  0.0610],\n",
       "         [-0.2830, -0.2693,  0.3204,  ..., -0.1260, -0.4929, -0.0247],\n",
       "         [ 0.2316, -0.0935,  0.2929,  ...,  0.0506,  0.1619,  0.2220]],\n",
       "\n",
       "        [[-0.3602,  0.0204,  0.0642,  ...,  0.0823,  0.1430, -0.1293],\n",
       "         [-0.3662, -0.1661,  0.5626,  ...,  0.3049, -0.0393, -0.6735],\n",
       "         [-0.0576,  0.1856,  0.0604,  ..., -0.8323,  0.1249, -0.2254],\n",
       "         ...,\n",
       "         [ 0.0757, -0.7046, -0.0294,  ...,  0.4713,  0.5448,  0.6608],\n",
       "         [ 0.8460, -0.0958, -0.7539,  ...,  0.0025, -0.0090,  0.5689],\n",
       "         [ 0.3363, -0.4012,  0.0047,  ..., -0.2840, -0.3999,  0.1393]]],\n",
       "       device='cuda:0', grad_fn=<PermuteBackward0>)"
      ]
     },
     "execution_count": 22,
     "metadata": {},
     "output_type": "execute_result"
    }
   ],
   "source": [
    "G_model(torch.tensor(X).float().to(device))"
   ]
  },
  {
   "cell_type": "code",
   "execution_count": 23,
   "metadata": {},
   "outputs": [],
   "source": [
    "cfg: dict = {\"processor\": \"audio_to_pose_new_keypoints\", \"input_shape\": [None, AUDIO_SHAPE], \"new_keypoints\":True}\n",
    "process_row, decode_pose = get_processor(cfg)\n",
    "row = df.sample(n=1).iloc[0]"
   ]
  },
  {
   "cell_type": "code",
   "execution_count": 24,
   "metadata": {},
   "outputs": [],
   "source": [
    "X, Y = process_row(row) #増えた次元の7, 8, 9がnose, eyesとなる。"
   ]
  },
  {
   "cell_type": "code",
   "execution_count": 26,
   "metadata": {},
   "outputs": [],
   "source": [
    "import numpy as np\n",
    "x = np.random.randn(64,2,49)"
   ]
  },
  {
   "cell_type": "code",
   "execution_count": 32,
   "metadata": {},
   "outputs": [],
   "source": [
    "X, Y = generate_batch(df, process_row, batch_size)\n"
   ]
  },
  {
   "cell_type": "code",
   "execution_count": 34,
   "metadata": {},
   "outputs": [
    {
     "data": {
      "text/plain": [
       "(32, 67267)"
      ]
     },
     "execution_count": 34,
     "metadata": {},
     "output_type": "execute_result"
    }
   ],
   "source": [
    "X.shape"
   ]
  },
  {
   "cell_type": "code",
   "execution_count": null,
   "metadata": {},
   "outputs": [],
   "source": []
  }
 ],
 "metadata": {
  "kernelspec": {
   "display_name": "speechandtext2gesture",
   "language": "python",
   "name": "python3"
  },
  "language_info": {
   "codemirror_mode": {
    "name": "ipython",
    "version": 3
   },
   "file_extension": ".py",
   "mimetype": "text/x-python",
   "name": "python",
   "nbconvert_exporter": "python",
   "pygments_lexer": "ipython3",
   "version": "3.10.12"
  }
 },
 "nbformat": 4,
 "nbformat_minor": 2
}
