{
 "cells": [
  {
   "cell_type": "code",
   "execution_count": 1,
   "metadata": {},
   "outputs": [
    {
     "name": "stdout",
     "output_type": "stream",
     "text": [
      "True\n"
     ]
    }
   ],
   "source": [
    "#tensorいじりのテストを行う\n",
    "import torch\n",
    "import torch.nn\n",
    "x = torch.randn(10,10,10)\n",
    "print(torch.cuda.is_available())\n",
    "from audio_to_multiple_pose_gan.dataset import generate_batch, get_processor\n",
    "from audio_to_multiple_pose_gan.config import get_config\n",
    "import warnings\n",
    "warnings.simplefilter('ignore')"
   ]
  },
  {
   "cell_type": "code",
   "execution_count": 2,
   "metadata": {},
   "outputs": [],
   "source": [
    "import pandas as pd\n",
    "from common.consts import AUDIO_SHAPE\n",
    "batch_size = 32\n",
    "train_csv: str = \"~/Desktop/AI-Experiments/speechandtext2gesture/Gestures/train.csv\"\n",
    "#train_csv: str = \"~/AI-Experiments/speechandtext2gesture/Gestures/train.csv\"\n",
    "#df = pd.read_csv(self.args.train_csv)\n",
    "#cfg = get_config(self.args.config)\n",
    "df = pd.read_csv(train_csv)\n",
    "#cfg = get_config(config)\n",
    "cfg: dict = {\"processor\": \"audio_to_pose\", \"input_shape\": [None, AUDIO_SHAPE]}\n",
    "process_row, decode_pose = get_processor(cfg)"
   ]
  },
  {
   "cell_type": "code",
   "execution_count": 3,
   "metadata": {},
   "outputs": [],
   "source": [
    "from common.consts import AUDIO_SHAPE\n",
    "configs = {\n",
    "    \"audio_to_pose\": {\"num_keypoints\": 98, \"processor\": \"audio_to_pose\", \"flatten\": False, \"input_shape\": [None, AUDIO_SHAPE]},\n",
    "    \"audio_to_pose_inference\": {\"num_keypoints\": 98, \"processor\": \"audio_to_pose_inference\", \"flatten\": False, \"input_shape\": [None, AUDIO_SHAPE]}\n",
    "}\n",
    "cfg: dict = {\"processor\": \"audio_to_pose\", \"input_shape\": [None, AUDIO_SHAPE]}\n",
    "process_row, decode_pose = get_processor(cfg)"
   ]
  },
  {
   "cell_type": "code",
   "execution_count": 4,
   "metadata": {},
   "outputs": [],
   "source": [
    "row = df.sample(n=1).iloc[0]\n",
    "X, Y = generate_batch(df, process_row, batch_size)"
   ]
  },
  {
   "cell_type": "code",
   "execution_count": 5,
   "metadata": {},
   "outputs": [
    {
     "data": {
      "text/plain": [
       "(32, 64, 98)"
      ]
     },
     "execution_count": 5,
     "metadata": {},
     "output_type": "execute_result"
    }
   ],
   "source": [
    "Y.shape"
   ]
  },
  {
   "cell_type": "code",
   "execution_count": 6,
   "metadata": {},
   "outputs": [
    {
     "data": {
      "text/plain": [
       "(32, 67267)"
      ]
     },
     "execution_count": 6,
     "metadata": {},
     "output_type": "execute_result"
    }
   ],
   "source": [
    "X.shape"
   ]
  },
  {
   "cell_type": "code",
   "execution_count": 7,
   "metadata": {},
   "outputs": [
    {
     "data": {
      "text/plain": [
       "dataset                                                    train\n",
       "start                                            00:01:29.122456\n",
       "end                                              00:01:33.326660\n",
       "interval_id                                                 4230\n",
       "pose_fn        Gestures/shelly/train/npz/4230-00:01:29.122456...\n",
       "audio_fn       Gestures/shelly/train/audio/4230-00:01:23.7837...\n",
       "video_fn       8._Plato_Part_III_-_Arguments_for_the_immortal...\n",
       "speaker                                                   shelly\n",
       "Name: 10347, dtype: object"
      ]
     },
     "execution_count": 7,
     "metadata": {},
     "output_type": "execute_result"
    }
   ],
   "source": [
    "df.sample(n=1).iloc[0]"
   ]
  },
  {
   "cell_type": "code",
   "execution_count": 8,
   "metadata": {},
   "outputs": [
    {
     "data": {
      "text/plain": [
       "torch.Size([32, 64, 98])"
      ]
     },
     "execution_count": 8,
     "metadata": {},
     "output_type": "execute_result"
    }
   ],
   "source": [
    "from audio_to_multiple_pose_gan.static_model_factory import *\n",
    "a2p = Audio2Pose(1, 98).to(device)\n",
    "a2p(torch.tensor(X).float().to(device)).shape"
   ]
  },
  {
   "cell_type": "code",
   "execution_count": 9,
   "metadata": {},
   "outputs": [
    {
     "data": {
      "text/plain": [
       "(32, 64, 98)"
      ]
     },
     "execution_count": 9,
     "metadata": {},
     "output_type": "execute_result"
    }
   ],
   "source": [
    "Y.shape"
   ]
  },
  {
   "cell_type": "code",
   "execution_count": 10,
   "metadata": {},
   "outputs": [],
   "source": [
    "d_patchgan = D_patchgan(in_channels=64)"
   ]
  },
  {
   "cell_type": "code",
   "execution_count": 11,
   "metadata": {},
   "outputs": [
    {
     "data": {
      "text/plain": [
       "(32, 64, 98)"
      ]
     },
     "execution_count": 11,
     "metadata": {},
     "output_type": "execute_result"
    }
   ],
   "source": [
    "Y.shape"
   ]
  },
  {
   "cell_type": "code",
   "execution_count": 12,
   "metadata": {},
   "outputs": [
    {
     "data": {
      "text/plain": [
       "(32, 64, 98)"
      ]
     },
     "execution_count": 12,
     "metadata": {},
     "output_type": "execute_result"
    }
   ],
   "source": [
    "Y.shape"
   ]
  },
  {
   "cell_type": "code",
   "execution_count": 13,
   "metadata": {},
   "outputs": [
    {
     "data": {
      "text/plain": [
       "(32, 63, 98)"
      ]
     },
     "execution_count": 13,
     "metadata": {},
     "output_type": "execute_result"
    }
   ],
   "source": [
    "from audio_to_multiple_pose_gan.torch_layers import *\n",
    "to_motion_delta(Y).shape"
   ]
  },
  {
   "cell_type": "code",
   "execution_count": 14,
   "metadata": {},
   "outputs": [],
   "source": [
    "Y = torch.tensor(Y).float().to(device)"
   ]
  },
  {
   "cell_type": "code",
   "execution_count": 15,
   "metadata": {},
   "outputs": [
    {
     "name": "stdout",
     "output_type": "stream",
     "text": [
      "torch.Size([32, 256, 64])\n"
     ]
    }
   ],
   "source": [
    "a2p = Audio2PoseGANS(1, 98).to(device)\n",
    "pred_Y = a2p(torch.tensor(X).float().to(device))"
   ]
  },
  {
   "cell_type": "code",
   "execution_count": 16,
   "metadata": {},
   "outputs": [
    {
     "data": {
      "text/plain": [
       "tensor(0.8784, device='cuda:0', grad_fn=<MeanBackward0>)"
      ]
     },
     "execution_count": 16,
     "metadata": {},
     "output_type": "execute_result"
    }
   ],
   "source": [
    "keypoints_regloss(Y, pred_Y, regloss_type=\"l1\")"
   ]
  },
  {
   "cell_type": "code",
   "execution_count": 17,
   "metadata": {},
   "outputs": [],
   "source": [
    "from audio_to_multiple_pose_gan.config import get_config\n",
    "from audio_to_multiple_pose_gan.dataset import generate_batch, get_processor\n",
    "#get_modelの実装は任せる\n",
    "from audio_to_multiple_pose_gan.static_model_factory import Audio2PoseGANS, D_patchgan\n",
    "from audio_to_multiple_pose_gan.torch_layers import to_motion_delta, keypoints_to_train, keypoints_regloss\n",
    "from common.audio_lib import save_audio_sample\n",
    "from common.audio_repr import raw_repr\n",
    "from common.consts import RIGHT_BODY_KEYPOINTS, LEFT_BODY_KEYPOINTS, LEFT_HAND_KEYPOINTS, \\\n",
    "    RIGHT_HAND_KEYPOINTS, POSE_SAMPLE_SHAPE, G_SCOPE, D_SCOPE, SR, FRAMES_PER_SAMPLE, AUDIO_SHAPE\n",
    "from common.evaluation import compute_pck\n",
    "from common.pose_logic_lib import translate_keypoints, get_sample_output_by_config\n",
    "from common.pose_plot_lib import save_side_by_side_video, save_video_from_audio_video\n",
    "from torch import optim\n",
    "import torch\n",
    "import pandas as pd\n",
    "import argparse\n",
    "from torch import nn\n",
    "\n",
    "def get_training_keypoints():\n",
    "    training_keypoints = []\n",
    "    training_keypoints.extend(RIGHT_BODY_KEYPOINTS)\n",
    "    training_keypoints.extend(LEFT_BODY_KEYPOINTS)\n",
    "    for i in range(5):\n",
    "        training_keypoints.extend(RIGHT_HAND_KEYPOINTS(i))\n",
    "        training_keypoints.extend(LEFT_HAND_KEYPOINTS(i))\n",
    "    training_keypoints = sorted(list(set(training_keypoints)))\n",
    "    return training_keypoints"
   ]
  },
  {
   "cell_type": "code",
   "execution_count": 18,
   "metadata": {},
   "outputs": [],
   "source": [
    "poses = decode_pose(Y.cpu().numpy()[0], shift = [0,0], speaker=\"shelly\")"
   ]
  },
  {
   "cell_type": "code",
   "execution_count": 19,
   "metadata": {},
   "outputs": [],
   "source": [
    "G_model = Audio2PoseGANS(1, 98).to(device)"
   ]
  },
  {
   "cell_type": "code",
   "execution_count": 20,
   "metadata": {},
   "outputs": [],
   "source": [
    "state_dict = torch.load(\"params/G_model_last.pth\")"
   ]
  },
  {
   "cell_type": "code",
   "execution_count": 21,
   "metadata": {},
   "outputs": [],
   "source": [
    "from collections import OrderedDict\n",
    "param_dict = OrderedDict()\n",
    "for key in state_dict:\n",
    "    param_dict[key.replace(\"_orig_mod.\",\"\")] = state_dict[key]"
   ]
  },
  {
   "cell_type": "code",
   "execution_count": 22,
   "metadata": {},
   "outputs": [
    {
     "data": {
      "text/plain": [
       "<All keys matched successfully>"
      ]
     },
     "execution_count": 22,
     "metadata": {},
     "output_type": "execute_result"
    }
   ],
   "source": [
    "G_model.load_state_dict(param_dict)"
   ]
  },
  {
   "cell_type": "code",
   "execution_count": 25,
   "metadata": {},
   "outputs": [
    {
     "name": "stdout",
     "output_type": "stream",
     "text": [
      "torch.Size([32, 256, 64])\n"
     ]
    },
    {
     "data": {
      "text/plain": [
       "tensor([[[ 2.8013e-04, -9.5853e-01,  1.5811e-01,  ...,  1.2247e+00,\n",
       "           1.2418e+00,  1.2486e+00],\n",
       "         [ 1.4283e-04, -1.0165e+00,  1.3619e-01,  ...,  1.2192e+00,\n",
       "           1.2536e+00,  1.2626e+00],\n",
       "         [ 3.1919e-04, -1.0452e+00,  1.0584e-01,  ...,  1.2178e+00,\n",
       "           1.2534e+00,  1.2720e+00],\n",
       "         ...,\n",
       "         [ 1.4552e-03, -9.1413e-01,  1.8575e-01,  ...,  1.2431e+00,\n",
       "           1.2671e+00,  1.2820e+00],\n",
       "         [ 6.6021e-04, -9.2148e-01,  1.5552e-01,  ...,  1.2378e+00,\n",
       "           1.2629e+00,  1.2858e+00],\n",
       "         [ 4.1131e-05, -9.4288e-01,  1.5790e-01,  ...,  1.2241e+00,\n",
       "           1.2204e+00,  1.2515e+00]],\n",
       "\n",
       "        [[ 2.9345e-04,  2.3178e-01,  6.8600e-02,  ...,  5.6841e-01,\n",
       "           6.1496e-01,  6.2544e-01],\n",
       "         [ 1.8441e-04,  1.7168e-01, -3.1800e-05,  ...,  5.7123e-01,\n",
       "           6.3520e-01,  6.3237e-01],\n",
       "         [ 2.9670e-04,  1.5457e-01, -2.3184e-02,  ...,  5.8094e-01,\n",
       "           6.4753e-01,  6.4717e-01],\n",
       "         ...,\n",
       "         [ 1.6989e-04,  2.3634e-01,  1.9983e-01,  ...,  3.0704e-01,\n",
       "           3.8677e-01,  3.9111e-01],\n",
       "         [ 4.8173e-04,  2.9748e-01,  2.3750e-01,  ...,  2.9833e-01,\n",
       "           3.5871e-01,  3.7222e-01],\n",
       "         [ 6.2821e-04,  4.2488e-01,  2.0112e-01,  ...,  1.9371e-01,\n",
       "           2.3891e-01,  2.5154e-01]],\n",
       "\n",
       "        [[ 1.3030e-04,  5.2996e-01,  7.3135e-01,  ...,  3.9326e-01,\n",
       "           3.8551e-01,  3.9608e-01],\n",
       "         [-4.1524e-05,  5.0798e-01,  6.8630e-01,  ...,  3.7751e-01,\n",
       "           3.8039e-01,  3.8688e-01],\n",
       "         [-2.1999e-05,  4.8641e-01,  7.3255e-01,  ...,  3.7774e-01,\n",
       "           3.9162e-01,  3.8838e-01],\n",
       "         ...,\n",
       "         [ 3.5655e-04,  3.7709e-01,  5.6906e-01,  ...,  5.2901e-02,\n",
       "           5.4949e-02,  6.0574e-02],\n",
       "         [ 5.0045e-04,  3.0926e-01,  5.2388e-01,  ...,  5.9151e-02,\n",
       "           4.8372e-02,  6.9674e-02],\n",
       "         [ 6.2377e-05,  2.9824e-01,  5.5352e-01,  ...,  7.5264e-02,\n",
       "           7.5348e-02,  9.0900e-02]],\n",
       "\n",
       "        ...,\n",
       "\n",
       "        [[ 6.6977e-04, -1.3664e+00, -7.3518e-01,  ..., -9.4291e-01,\n",
       "          -9.4216e-01, -9.4188e-01],\n",
       "         [ 4.5897e-04, -1.4581e+00, -6.1933e-01,  ..., -9.5574e-01,\n",
       "          -9.7578e-01, -9.6651e-01],\n",
       "         [ 6.6280e-04, -1.5350e+00, -5.9357e-01,  ..., -9.8073e-01,\n",
       "          -1.0074e+00, -9.9453e-01],\n",
       "         ...,\n",
       "         [ 7.5554e-04, -1.5580e+00, -9.6904e-01,  ..., -9.7305e-01,\n",
       "          -9.8266e-01, -9.7033e-01],\n",
       "         [ 1.3468e-03, -1.5154e+00, -8.1696e-01,  ..., -9.4742e-01,\n",
       "          -9.5988e-01, -9.3800e-01],\n",
       "         [ 1.3748e-03, -1.4929e+00, -8.0606e-01,  ..., -8.7207e-01,\n",
       "          -8.8013e-01, -8.6835e-01]],\n",
       "\n",
       "        [[ 3.5976e-04,  3.8223e-01,  1.9823e-01,  ...,  2.7416e-01,\n",
       "           3.1226e-01,  3.1908e-01],\n",
       "         [ 5.8202e-04,  3.9433e-01,  1.9517e-01,  ...,  2.8535e-01,\n",
       "           3.1499e-01,  3.3421e-01],\n",
       "         [ 8.7557e-04,  3.5808e-01,  1.8567e-01,  ...,  2.9053e-01,\n",
       "           3.1879e-01,  3.4630e-01],\n",
       "         ...,\n",
       "         [ 1.1003e-03,  1.9851e-01, -1.0543e-01,  ...,  4.4673e-01,\n",
       "           4.9037e-01,  5.1452e-01],\n",
       "         [ 9.6588e-04,  2.5317e-01, -5.3747e-02,  ...,  4.2928e-01,\n",
       "           4.7626e-01,  4.9846e-01],\n",
       "         [ 5.8811e-04,  2.2689e-01, -8.6547e-02,  ...,  4.1872e-01,\n",
       "           4.6380e-01,  4.8457e-01]],\n",
       "\n",
       "        [[ 1.0106e-03, -5.0686e-02,  2.0208e-01,  ..., -3.6580e-01,\n",
       "          -3.5624e-01, -3.7444e-01],\n",
       "         [ 9.8805e-04, -7.9338e-02,  2.9185e-01,  ..., -3.2881e-01,\n",
       "          -3.1118e-01, -3.3463e-01],\n",
       "         [ 9.8583e-04, -8.9530e-02,  3.8315e-01,  ..., -3.4632e-01,\n",
       "          -3.2291e-01, -3.4594e-01],\n",
       "         ...,\n",
       "         [ 1.8548e-03, -6.5283e-02,  3.2840e-01,  ..., -2.8518e-01,\n",
       "          -2.5651e-01, -2.7676e-01],\n",
       "         [ 1.8015e-03, -3.8560e-02,  2.8434e-01,  ..., -2.9936e-01,\n",
       "          -2.8199e-01, -3.0536e-01],\n",
       "         [ 1.9411e-03,  2.1404e-02,  1.4893e-01,  ..., -3.4380e-01,\n",
       "          -3.3746e-01, -3.6319e-01]]], device='cuda:0',\n",
       "       grad_fn=<PermuteBackward0>)"
      ]
     },
     "execution_count": 25,
     "metadata": {},
     "output_type": "execute_result"
    }
   ],
   "source": [
    "G_model(torch.tensor(X).float().to(device))"
   ]
  },
  {
   "cell_type": "code",
   "execution_count": null,
   "metadata": {},
   "outputs": [],
   "source": []
  }
 ],
 "metadata": {
  "kernelspec": {
   "display_name": "speechandtext2gesture",
   "language": "python",
   "name": "python3"
  },
  "language_info": {
   "codemirror_mode": {
    "name": "ipython",
    "version": 3
   },
   "file_extension": ".py",
   "mimetype": "text/x-python",
   "name": "python",
   "nbconvert_exporter": "python",
   "pygments_lexer": "ipython3",
   "version": "3.10.12"
  }
 },
 "nbformat": 4,
 "nbformat_minor": 2
}
