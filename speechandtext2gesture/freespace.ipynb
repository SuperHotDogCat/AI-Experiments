{
 "cells": [
  {
   "cell_type": "code",
   "execution_count": 1,
   "metadata": {},
   "outputs": [
    {
     "name": "stdout",
     "output_type": "stream",
     "text": [
      "True\n"
     ]
    }
   ],
   "source": [
    "#tensorいじりのテストを行う\n",
    "import torch\n",
    "import torch.nn\n",
    "x = torch.randn(10,10,10)\n",
    "print(torch.cuda.is_available())\n",
    "from audio_to_multiple_pose_gan.dataset import generate_batch, get_processor\n",
    "from audio_to_multiple_pose_gan.config import get_config\n",
    "import warnings\n",
    "warnings.simplefilter('ignore')"
   ]
  },
  {
   "cell_type": "code",
   "execution_count": 2,
   "metadata": {},
   "outputs": [],
   "source": [
    "import pandas as pd\n",
    "from common.consts import AUDIO_SHAPE\n",
    "batch_size = 32\n",
    "train_csv: str = \"~/Desktop/AI-Experiments/speechandtext2gesture/Gestures/train.csv\"\n",
    "#train_csv: str = \"~/AI-Experiments/speechandtext2gesture/Gestures/train.csv\"\n",
    "#df = pd.read_csv(self.args.train_csv)\n",
    "#cfg = get_config(self.args.config)\n",
    "df = pd.read_csv(train_csv)\n",
    "#cfg = get_config(config)\n",
    "cfg: dict = {\"processor\": \"audio_to_pose\", \"input_shape\": [None, AUDIO_SHAPE]}\n",
    "process_row, decode_pose = get_processor(cfg)"
   ]
  },
  {
   "cell_type": "code",
   "execution_count": 3,
   "metadata": {},
   "outputs": [],
   "source": [
    "from common.consts import AUDIO_SHAPE\n",
    "configs = {\n",
    "    \"audio_to_pose\": {\"num_keypoints\": 98, \"processor\": \"audio_to_pose\", \"flatten\": False, \"input_shape\": [None, AUDIO_SHAPE]},\n",
    "    \"audio_to_pose_inference\": {\"num_keypoints\": 98, \"processor\": \"audio_to_pose_inference\", \"flatten\": False, \"input_shape\": [None, AUDIO_SHAPE]}\n",
    "}\n",
    "cfg: dict = {\"processor\": \"audio_to_pose\", \"input_shape\": [None, AUDIO_SHAPE]}\n",
    "process_row, decode_pose = get_processor(cfg)"
   ]
  },
  {
   "cell_type": "code",
   "execution_count": 4,
   "metadata": {},
   "outputs": [],
   "source": [
    "row = df.sample(n=1).iloc[0]\n",
    "X, Y = generate_batch(df, process_row, batch_size)"
   ]
  },
  {
   "cell_type": "code",
   "execution_count": 5,
   "metadata": {},
   "outputs": [
    {
     "data": {
      "text/plain": [
       "(32, 64, 98)"
      ]
     },
     "execution_count": 5,
     "metadata": {},
     "output_type": "execute_result"
    }
   ],
   "source": [
    "Y.shape"
   ]
  },
  {
   "cell_type": "code",
   "execution_count": 6,
   "metadata": {},
   "outputs": [
    {
     "data": {
      "text/plain": [
       "(32, 67267)"
      ]
     },
     "execution_count": 6,
     "metadata": {},
     "output_type": "execute_result"
    }
   ],
   "source": [
    "X.shape"
   ]
  },
  {
   "cell_type": "code",
   "execution_count": 7,
   "metadata": {},
   "outputs": [
    {
     "data": {
      "text/plain": [
       "dataset                                                    train\n",
       "start                                            00:01:12.005339\n",
       "end                                              00:01:16.209543\n",
       "interval_id                                                  951\n",
       "pose_fn        Gestures/shelly/train/npz/951-00:01:12.005339-...\n",
       "audio_fn       Gestures/shelly/train/audio/951-00:00:38.63863...\n",
       "video_fn       18._The_badness_of_death_Part_III_Immortality_...\n",
       "speaker                                                   shelly\n",
       "Name: 1068, dtype: object"
      ]
     },
     "execution_count": 7,
     "metadata": {},
     "output_type": "execute_result"
    }
   ],
   "source": [
    "df.sample(n=1).iloc[0]"
   ]
  },
  {
   "cell_type": "code",
   "execution_count": 8,
   "metadata": {},
   "outputs": [
    {
     "data": {
      "text/plain": [
       "torch.Size([32, 64, 98])"
      ]
     },
     "execution_count": 8,
     "metadata": {},
     "output_type": "execute_result"
    }
   ],
   "source": [
    "from audio_to_multiple_pose_gan.static_model_factory import *\n",
    "a2p = Audio2Pose(1, 98)\n",
    "input_dict = {\"audio\": X}\n",
    "a2p(input_dict).shape"
   ]
  },
  {
   "cell_type": "code",
   "execution_count": 9,
   "metadata": {},
   "outputs": [
    {
     "data": {
      "text/plain": [
       "torch.Size([32, 64, 98])"
      ]
     },
     "execution_count": 9,
     "metadata": {},
     "output_type": "execute_result"
    }
   ],
   "source": [
    "a2p = Audio2PoseGANS(1, 98)\n",
    "input_dict = {\"audio\": X}\n",
    "a2p(input_dict).shape"
   ]
  },
  {
   "cell_type": "code",
   "execution_count": 10,
   "metadata": {},
   "outputs": [
    {
     "data": {
      "text/plain": [
       "(32, 64, 98)"
      ]
     },
     "execution_count": 10,
     "metadata": {},
     "output_type": "execute_result"
    }
   ],
   "source": [
    "Y.shape"
   ]
  },
  {
   "cell_type": "code",
   "execution_count": 11,
   "metadata": {},
   "outputs": [],
   "source": [
    "d_patchgan = D_patchgan(in_channels=64)"
   ]
  },
  {
   "cell_type": "code",
   "execution_count": 12,
   "metadata": {},
   "outputs": [
    {
     "data": {
      "text/plain": [
       "(32, 64, 98)"
      ]
     },
     "execution_count": 12,
     "metadata": {},
     "output_type": "execute_result"
    }
   ],
   "source": [
    "Y.shape"
   ]
  },
  {
   "cell_type": "code",
   "execution_count": 14,
   "metadata": {},
   "outputs": [
    {
     "data": {
      "text/plain": [
       "(32, 64, 98)"
      ]
     },
     "execution_count": 14,
     "metadata": {},
     "output_type": "execute_result"
    }
   ],
   "source": [
    "Y.shape"
   ]
  },
  {
   "cell_type": "code",
   "execution_count": 15,
   "metadata": {},
   "outputs": [
    {
     "data": {
      "text/plain": [
       "(32, 63, 98)"
      ]
     },
     "execution_count": 15,
     "metadata": {},
     "output_type": "execute_result"
    }
   ],
   "source": [
    "from audio_to_multiple_pose_gan.torch_layers import *\n",
    "to_motion_delta(Y).shape"
   ]
  },
  {
   "cell_type": "code",
   "execution_count": 16,
   "metadata": {},
   "outputs": [],
   "source": [
    "Y = torch.tensor(Y).float()"
   ]
  },
  {
   "cell_type": "code",
   "execution_count": 17,
   "metadata": {},
   "outputs": [],
   "source": [
    "a2p = Audio2PoseGANS(1, 98)\n",
    "input_dict = {\"audio\": X}\n",
    "pred_Y = a2p(input_dict)"
   ]
  },
  {
   "cell_type": "code",
   "execution_count": 18,
   "metadata": {},
   "outputs": [
    {
     "data": {
      "text/plain": [
       "tensor(0.8104, grad_fn=<MeanBackward0>)"
      ]
     },
     "execution_count": 18,
     "metadata": {},
     "output_type": "execute_result"
    }
   ],
   "source": [
    "keypoints_regloss(Y, pred_Y, regloss_type=\"l1\")"
   ]
  },
  {
   "cell_type": "code",
   "execution_count": 27,
   "metadata": {},
   "outputs": [],
   "source": [
    "from audio_to_multiple_pose_gan.config import get_config\n",
    "from audio_to_multiple_pose_gan.dataset import generate_batch, get_processor\n",
    "#get_modelの実装は任せる\n",
    "from audio_to_multiple_pose_gan.static_model_factory import Audio2PoseGANS, D_patchgan\n",
    "from audio_to_multiple_pose_gan.torch_layers import to_motion_delta, keypoints_to_train, keypoints_regloss\n",
    "from common.audio_lib import save_audio_sample\n",
    "from common.audio_repr import raw_repr\n",
    "from common.consts import RIGHT_BODY_KEYPOINTS, LEFT_BODY_KEYPOINTS, LEFT_HAND_KEYPOINTS, \\\n",
    "    RIGHT_HAND_KEYPOINTS, POSE_SAMPLE_SHAPE, G_SCOPE, D_SCOPE, SR, FRAMES_PER_SAMPLE, AUDIO_SHAPE\n",
    "from common.evaluation import compute_pck\n",
    "from common.pose_logic_lib import translate_keypoints, get_sample_output_by_config\n",
    "from common.pose_plot_lib import save_side_by_side_video, save_video_from_audio_video\n",
    "from torch import optim\n",
    "import torch\n",
    "import pandas as pd\n",
    "import argparse\n",
    "from torch import nn\n",
    "\n",
    "def get_training_keypoints():\n",
    "    training_keypoints = []\n",
    "    training_keypoints.extend(RIGHT_BODY_KEYPOINTS)\n",
    "    training_keypoints.extend(LEFT_BODY_KEYPOINTS)\n",
    "    for i in range(5):\n",
    "        training_keypoints.extend(RIGHT_HAND_KEYPOINTS(i))\n",
    "        training_keypoints.extend(LEFT_HAND_KEYPOINTS(i))\n",
    "    training_keypoints = sorted(list(set(training_keypoints)))\n",
    "    return training_keypoints"
   ]
  },
  {
   "cell_type": "code",
   "execution_count": 30,
   "metadata": {},
   "outputs": [
    {
     "ename": "RuntimeError",
     "evalue": "Index tensor must have the same number of dimensions as input tensor",
     "output_type": "error",
     "traceback": [
      "\u001b[0;31m---------------------------------------------------------------------------\u001b[0m",
      "\u001b[0;31mRuntimeError\u001b[0m                              Traceback (most recent call last)",
      "\u001b[1;32m/home/junichiro/Desktop/AI-Experiments/speechandtext2gesture/freespace.ipynb Cell 19\u001b[0m line \u001b[0;36m2\n\u001b[1;32m      <a href='vscode-notebook-cell:/home/junichiro/Desktop/AI-Experiments/speechandtext2gesture/freespace.ipynb#X31sZmlsZQ%3D%3D?line=0'>1</a>\u001b[0m training_keypoints \u001b[39m=\u001b[39m get_training_keypoints()\n\u001b[0;32m----> <a href='vscode-notebook-cell:/home/junichiro/Desktop/AI-Experiments/speechandtext2gesture/freespace.ipynb#X31sZmlsZQ%3D%3D?line=1'>2</a>\u001b[0m keypoints_to_train(Y, torch\u001b[39m.\u001b[39;49mLongTensor(training_keypoints))\n",
      "File \u001b[0;32m~/Desktop/AI-Experiments/speechandtext2gesture/audio_to_multiple_pose_gan/torch_layers.py:26\u001b[0m, in \u001b[0;36mkeypoints_to_train\u001b[0;34m(poses, arr)\u001b[0m\n\u001b[1;32m     24\u001b[0m shape \u001b[39m=\u001b[39m poses\u001b[39m.\u001b[39mshape\n\u001b[1;32m     25\u001b[0m reshaped \u001b[39m=\u001b[39m poses\u001b[39m.\u001b[39mreshape(shape[\u001b[39m0\u001b[39m], shape[\u001b[39m1\u001b[39m], \u001b[39m2\u001b[39m, \u001b[39m49\u001b[39m)\n\u001b[0;32m---> 26\u001b[0m required_keypoints \u001b[39m=\u001b[39m torch\u001b[39m.\u001b[39;49mgather(reshaped, dim \u001b[39m=\u001b[39;49m \u001b[39m3\u001b[39;49m, index \u001b[39m=\u001b[39;49m arr)\n\u001b[1;32m     27\u001b[0m \u001b[39mreturn\u001b[39;00m required_keypoints\u001b[39m.\u001b[39mreshape(shape[\u001b[39m0\u001b[39m], shape[\u001b[39m1\u001b[39m], \u001b[39m2\u001b[39m\u001b[39m*\u001b[39m\u001b[39mlen\u001b[39m(arr))\n",
      "\u001b[0;31mRuntimeError\u001b[0m: Index tensor must have the same number of dimensions as input tensor"
     ]
    }
   ],
   "source": [
    "training_keypoints = get_training_keypoints()\n",
    "keypoints_to_train(Y, torch.LongTensor(training_keypoints))"
   ]
  },
  {
   "cell_type": "code",
   "execution_count": 32,
   "metadata": {},
   "outputs": [
    {
     "data": {
      "text/plain": [
       "torch.Size([48])"
      ]
     },
     "execution_count": 32,
     "metadata": {},
     "output_type": "execute_result"
    }
   ],
   "source": [
    "torch.LongTensor(training_keypoints).shape"
   ]
  },
  {
   "cell_type": "code",
   "execution_count": 33,
   "metadata": {},
   "outputs": [
    {
     "data": {
      "text/plain": [
       "torch.Size([32, 64, 98])"
      ]
     },
     "execution_count": 33,
     "metadata": {},
     "output_type": "execute_result"
    }
   ],
   "source": [
    "Y.shape"
   ]
  },
  {
   "cell_type": "code",
   "execution_count": 25,
   "metadata": {},
   "outputs": [
    {
     "data": {
      "text/plain": [
       "tensor([[0.4711],\n",
       "        [0.4701],\n",
       "        [0.4643],\n",
       "        [0.5149],\n",
       "        [0.5422],\n",
       "        [0.4667],\n",
       "        [0.5427],\n",
       "        [0.4738],\n",
       "        [0.3526],\n",
       "        [0.4910],\n",
       "        [0.4615],\n",
       "        [0.4670],\n",
       "        [0.5105],\n",
       "        [0.5141],\n",
       "        [0.4553],\n",
       "        [0.4931],\n",
       "        [0.4335],\n",
       "        [0.5136],\n",
       "        [0.4432],\n",
       "        [0.5083],\n",
       "        [0.5133],\n",
       "        [0.4874],\n",
       "        [0.4726],\n",
       "        [0.5026],\n",
       "        [0.5000],\n",
       "        [0.4595],\n",
       "        [0.4312],\n",
       "        [0.5144],\n",
       "        [0.4437],\n",
       "        [0.5043],\n",
       "        [0.4706],\n",
       "        [0.4842]], grad_fn=<SigmoidBackward0>)"
      ]
     },
     "execution_count": 25,
     "metadata": {},
     "output_type": "execute_result"
    }
   ],
   "source": [
    "d_patchgan = D_patchgan(in_channels=127)\n",
    "d_patchgan(torch.concatenate([Y,to_motion_delta(Y)],dim=1))"
   ]
  },
  {
   "cell_type": "code",
   "execution_count": 34,
   "metadata": {},
   "outputs": [
    {
     "data": {
      "text/plain": [
       "tensor([0.0000, 0.0109, 0.0432, 0.0955, 0.1654, 0.2500, 0.3455, 0.4477, 0.5523,\n",
       "        0.6545, 0.7500, 0.8346, 0.9045, 0.9568, 0.9891, 1.0000, 0.9891, 0.9568,\n",
       "        0.9045, 0.8346, 0.7500, 0.6545, 0.5523, 0.4477, 0.3455, 0.2500, 0.1654,\n",
       "        0.0955, 0.0432, 0.0109])"
      ]
     },
     "execution_count": 34,
     "metadata": {},
     "output_type": "execute_result"
    }
   ],
   "source": [
    "torch.hann_window(window_length=30)"
   ]
  },
  {
   "cell_type": "code",
   "execution_count": null,
   "metadata": {},
   "outputs": [],
   "source": []
  }
 ],
 "metadata": {
  "kernelspec": {
   "display_name": "speechandtext2gesture",
   "language": "python",
   "name": "python3"
  },
  "language_info": {
   "codemirror_mode": {
    "name": "ipython",
    "version": 3
   },
   "file_extension": ".py",
   "mimetype": "text/x-python",
   "name": "python",
   "nbconvert_exporter": "python",
   "pygments_lexer": "ipython3",
   "version": "3.10.12"
  }
 },
 "nbformat": 4,
 "nbformat_minor": 2
}
