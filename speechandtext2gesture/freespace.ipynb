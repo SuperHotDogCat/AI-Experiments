{
 "cells": [
  {
   "cell_type": "code",
   "execution_count": 1,
   "metadata": {},
   "outputs": [
    {
     "name": "stdout",
     "output_type": "stream",
     "text": [
      "True\n"
     ]
    }
   ],
   "source": [
    "#tensorいじりのテストを行う\n",
    "import torch\n",
    "import torch.nn\n",
    "x = torch.randn(10,10,10)\n",
    "print(torch.cuda.is_available())\n",
    "from audio_to_multiple_pose_gan.dataset import generate_batch, get_processor\n",
    "from audio_to_multiple_pose_gan.config import get_config\n",
    "import warnings\n",
    "warnings.simplefilter('ignore')"
   ]
  },
  {
   "cell_type": "code",
   "execution_count": 2,
   "metadata": {},
   "outputs": [],
   "source": [
    "import pandas as pd\n",
    "from common.consts import AUDIO_SHAPE\n",
    "batch_size = 32\n",
    "train_csv: str = \"~/Desktop/AI-Experiments/speechandtext2gesture/Gestures/train.csv\"\n",
    "#train_csv: str = \"~/AI-Experiments/speechandtext2gesture/Gestures/train.csv\"\n",
    "#df = pd.read_csv(self.args.train_csv)\n",
    "#cfg = get_config(self.args.config)\n",
    "df = pd.read_csv(train_csv)\n",
    "#cfg = get_config(config)\n",
    "cfg: dict = {\"processor\": \"audio_to_pose\", \"input_shape\": [None, AUDIO_SHAPE]}\n",
    "process_row, decode_pose = get_processor(cfg)"
   ]
  },
  {
   "cell_type": "code",
   "execution_count": 3,
   "metadata": {},
   "outputs": [],
   "source": [
    "from common.consts import AUDIO_SHAPE\n",
    "configs = {\n",
    "    \"audio_to_pose\": {\"num_keypoints\": 98, \"processor\": \"audio_to_pose\", \"flatten\": False, \"input_shape\": [None, AUDIO_SHAPE]},\n",
    "    \"audio_to_pose_inference\": {\"num_keypoints\": 98, \"processor\": \"audio_to_pose_inference\", \"flatten\": False, \"input_shape\": [None, AUDIO_SHAPE]}\n",
    "}\n",
    "cfg: dict = {\"processor\": \"audio_to_pose\", \"input_shape\": [None, AUDIO_SHAPE]}\n",
    "process_row, decode_pose = get_processor(cfg)"
   ]
  },
  {
   "cell_type": "code",
   "execution_count": 4,
   "metadata": {},
   "outputs": [],
   "source": [
    "row = df.sample(n=1).iloc[0]\n",
    "X, Y = generate_batch(df, process_row, batch_size)"
   ]
  },
  {
   "cell_type": "code",
   "execution_count": 5,
   "metadata": {},
   "outputs": [
    {
     "data": {
      "text/plain": [
       "(32, 64, 98)"
      ]
     },
     "execution_count": 5,
     "metadata": {},
     "output_type": "execute_result"
    }
   ],
   "source": [
    "Y.shape"
   ]
  },
  {
   "cell_type": "code",
   "execution_count": 6,
   "metadata": {},
   "outputs": [
    {
     "data": {
      "text/plain": [
       "(32, 67267)"
      ]
     },
     "execution_count": 6,
     "metadata": {},
     "output_type": "execute_result"
    }
   ],
   "source": [
    "X.shape"
   ]
  },
  {
   "cell_type": "code",
   "execution_count": 7,
   "metadata": {},
   "outputs": [
    {
     "data": {
      "text/plain": [
       "dataset                                                    train\n",
       "start                                            00:02:02.655989\n",
       "end                                              00:02:06.860194\n",
       "interval_id                                                 1524\n",
       "pose_fn        Gestures/shelly/train/npz/1524-00:02:02.655989...\n",
       "audio_fn       Gestures/shelly/train/audio/1524-00:01:54.9816...\n",
       "video_fn       14._What_matters_cont._The_nature_of_death_Par...\n",
       "speaker                                                   shelly\n",
       "Name: 56858, dtype: object"
      ]
     },
     "execution_count": 7,
     "metadata": {},
     "output_type": "execute_result"
    }
   ],
   "source": [
    "df.sample(n=1).iloc[0]"
   ]
  },
  {
   "cell_type": "code",
   "execution_count": 8,
   "metadata": {},
   "outputs": [
    {
     "data": {
      "text/plain": [
       "torch.Size([32, 64, 98])"
      ]
     },
     "execution_count": 8,
     "metadata": {},
     "output_type": "execute_result"
    }
   ],
   "source": [
    "from audio_to_multiple_pose_gan.static_model_factory import *\n",
    "a2p = Audio2Pose(1, 98).to(device)\n",
    "a2p(torch.tensor(X).float().to(device)).shape"
   ]
  },
  {
   "cell_type": "code",
   "execution_count": 9,
   "metadata": {},
   "outputs": [
    {
     "data": {
      "text/plain": [
       "(32, 64, 98)"
      ]
     },
     "execution_count": 9,
     "metadata": {},
     "output_type": "execute_result"
    }
   ],
   "source": [
    "Y.shape"
   ]
  },
  {
   "cell_type": "code",
   "execution_count": 10,
   "metadata": {},
   "outputs": [],
   "source": [
    "d_patchgan = D_patchgan(in_channels=64)"
   ]
  },
  {
   "cell_type": "code",
   "execution_count": 11,
   "metadata": {},
   "outputs": [
    {
     "data": {
      "text/plain": [
       "(32, 64, 98)"
      ]
     },
     "execution_count": 11,
     "metadata": {},
     "output_type": "execute_result"
    }
   ],
   "source": [
    "Y.shape"
   ]
  },
  {
   "cell_type": "code",
   "execution_count": 12,
   "metadata": {},
   "outputs": [
    {
     "data": {
      "text/plain": [
       "(32, 64, 98)"
      ]
     },
     "execution_count": 12,
     "metadata": {},
     "output_type": "execute_result"
    }
   ],
   "source": [
    "Y.shape"
   ]
  },
  {
   "cell_type": "code",
   "execution_count": 13,
   "metadata": {},
   "outputs": [
    {
     "data": {
      "text/plain": [
       "(32, 63, 98)"
      ]
     },
     "execution_count": 13,
     "metadata": {},
     "output_type": "execute_result"
    }
   ],
   "source": [
    "from audio_to_multiple_pose_gan.torch_layers import *\n",
    "to_motion_delta(Y).shape"
   ]
  },
  {
   "cell_type": "code",
   "execution_count": 14,
   "metadata": {},
   "outputs": [],
   "source": [
    "Y = torch.tensor(Y).float().to(device)"
   ]
  },
  {
   "cell_type": "code",
   "execution_count": 15,
   "metadata": {},
   "outputs": [
    {
     "name": "stdout",
     "output_type": "stream",
     "text": [
      "torch.Size([32, 256, 64])\n"
     ]
    }
   ],
   "source": [
    "a2p = Audio2PoseGANS(1, 98).to(device)\n",
    "pred_Y = a2p(torch.tensor(X).float().to(device))"
   ]
  },
  {
   "cell_type": "code",
   "execution_count": 16,
   "metadata": {},
   "outputs": [
    {
     "data": {
      "text/plain": [
       "tensor(0.8180, device='cuda:0', grad_fn=<MeanBackward0>)"
      ]
     },
     "execution_count": 16,
     "metadata": {},
     "output_type": "execute_result"
    }
   ],
   "source": [
    "keypoints_regloss(Y, pred_Y, regloss_type=\"l1\")"
   ]
  },
  {
   "cell_type": "code",
   "execution_count": 24,
   "metadata": {},
   "outputs": [],
   "source": [
    "from audio_to_multiple_pose_gan.config import get_config\n",
    "from audio_to_multiple_pose_gan.dataset import generate_batch, get_processor\n",
    "#get_modelの実装は任せる\n",
    "from audio_to_multiple_pose_gan.static_model_factory import Audio2PoseGANS, D_patchgan\n",
    "from audio_to_multiple_pose_gan.static_model_factory import Audio2PoseGANSTransformer\n",
    "from audio_to_multiple_pose_gan.torch_layers import to_motion_delta, keypoints_to_train, keypoints_regloss\n",
    "from common.audio_lib import save_audio_sample\n",
    "from common.audio_repr import raw_repr\n",
    "from common.consts import RIGHT_BODY_KEYPOINTS, LEFT_BODY_KEYPOINTS, LEFT_HAND_KEYPOINTS, \\\n",
    "    RIGHT_HAND_KEYPOINTS, POSE_SAMPLE_SHAPE, G_SCOPE, D_SCOPE, SR, FRAMES_PER_SAMPLE, AUDIO_SHAPE\n",
    "from common.evaluation import compute_pck\n",
    "from common.pose_logic_lib import translate_keypoints, get_sample_output_by_config\n",
    "from common.pose_plot_lib import save_side_by_side_video, save_video_from_audio_video\n",
    "from torch import optim\n",
    "import torch\n",
    "import pandas as pd\n",
    "import argparse\n",
    "from torch import nn\n",
    "\n",
    "def get_training_keypoints():\n",
    "    training_keypoints = []\n",
    "    training_keypoints.extend(RIGHT_BODY_KEYPOINTS)\n",
    "    training_keypoints.extend(LEFT_BODY_KEYPOINTS)\n",
    "    for i in range(5):\n",
    "        training_keypoints.extend(RIGHT_HAND_KEYPOINTS(i))\n",
    "        training_keypoints.extend(LEFT_HAND_KEYPOINTS(i))\n",
    "    training_keypoints = sorted(list(set(training_keypoints)))\n",
    "    return training_keypoints"
   ]
  },
  {
   "cell_type": "code",
   "execution_count": 25,
   "metadata": {},
   "outputs": [],
   "source": [
    "poses = decode_pose(Y.cpu().numpy()[0], shift = [0,0], speaker=\"shelly\")"
   ]
  },
  {
   "cell_type": "code",
   "execution_count": 26,
   "metadata": {},
   "outputs": [],
   "source": [
    "G_model = Audio2PoseGANSTransformer(1, 98).to(device)"
   ]
  },
  {
   "cell_type": "code",
   "execution_count": 27,
   "metadata": {},
   "outputs": [],
   "source": [
    "state_dict = torch.load(\"params/G_model_last.pth\")"
   ]
  },
  {
   "cell_type": "code",
   "execution_count": 28,
   "metadata": {},
   "outputs": [],
   "source": [
    "from collections import OrderedDict\n",
    "param_dict = OrderedDict()\n",
    "for key in state_dict:\n",
    "    param_dict[key.replace(\"_orig_mod.\",\"\")] = state_dict[key]"
   ]
  },
  {
   "cell_type": "code",
   "execution_count": 30,
   "metadata": {},
   "outputs": [
    {
     "data": {
      "text/plain": [
       "tensor([[[ 4.1996e-04,  1.1409e-02,  8.9636e-01,  ...,  2.2891e-01,\n",
       "           2.2697e-01,  2.2480e-01],\n",
       "         [ 1.1315e-03, -3.7908e-02,  9.9225e-01,  ...,  1.8634e-01,\n",
       "           1.6393e-01,  1.7367e-01],\n",
       "         [ 2.4469e-04, -5.4689e-02,  1.0447e+00,  ...,  1.0025e-01,\n",
       "           9.1471e-02,  1.0490e-01],\n",
       "         ...,\n",
       "         [ 3.0918e-04, -6.3821e-01, -5.5820e-01,  ...,  7.3165e-01,\n",
       "           7.6042e-01,  7.6217e-01],\n",
       "         [-4.5094e-05, -6.7813e-01, -5.4253e-01,  ...,  7.2746e-01,\n",
       "           7.4406e-01,  7.4936e-01],\n",
       "         [ 3.3324e-04, -6.8983e-01, -5.2097e-01,  ...,  6.7416e-01,\n",
       "           6.8064e-01,  6.8525e-01]],\n",
       "\n",
       "        [[ 6.6774e-04, -8.4116e-02,  2.2074e-01,  ..., -9.1132e-01,\n",
       "          -9.1675e-01, -9.2759e-01],\n",
       "         [ 1.1174e-03, -1.8906e-01,  1.9895e-01,  ..., -8.9615e-01,\n",
       "          -9.2028e-01, -9.2478e-01],\n",
       "         [ 9.4345e-04, -1.7329e-01,  3.0695e-01,  ..., -8.8341e-01,\n",
       "          -9.1654e-01, -9.1810e-01],\n",
       "         ...,\n",
       "         [ 7.1185e-04, -2.1889e-01,  1.3393e-01,  ..., -5.2984e-01,\n",
       "          -5.8043e-01, -5.7108e-01],\n",
       "         [ 6.8751e-04, -2.8667e-01,  1.1898e-01,  ..., -5.4543e-01,\n",
       "          -5.9214e-01, -5.8541e-01],\n",
       "         [ 5.0157e-04, -2.8763e-01, -8.5030e-04,  ..., -5.8503e-01,\n",
       "          -6.3402e-01, -6.2019e-01]],\n",
       "\n",
       "        [[ 1.6624e-03,  3.3591e-01,  3.3018e-01,  ..., -1.0482e+00,\n",
       "          -1.0652e+00, -1.0872e+00],\n",
       "         [ 9.7405e-04,  3.2530e-01,  1.7725e-01,  ..., -1.2142e+00,\n",
       "          -1.2316e+00, -1.2575e+00],\n",
       "         [ 7.9578e-04,  3.7534e-01, -9.7669e-02,  ..., -1.3989e+00,\n",
       "          -1.4109e+00, -1.4149e+00],\n",
       "         ...,\n",
       "         [-5.7691e-04,  2.6297e-01, -1.1401e+00,  ..., -1.7384e+00,\n",
       "          -1.7670e+00, -1.7587e+00],\n",
       "         [-1.7472e-03,  3.7529e-01, -9.9039e-01,  ..., -1.5517e+00,\n",
       "          -1.5544e+00, -1.5767e+00],\n",
       "         [-1.5714e-03,  4.1971e-01, -7.7667e-01,  ..., -1.2985e+00,\n",
       "          -1.3226e+00, -1.3479e+00]],\n",
       "\n",
       "        ...,\n",
       "\n",
       "        [[-9.9415e-04, -7.7903e-01, -3.3995e-01,  ...,  3.9761e-01,\n",
       "           3.8606e-01,  3.8266e-01],\n",
       "         [ 6.8023e-04, -9.8643e-01, -4.2565e-01,  ...,  3.3364e-01,\n",
       "           3.3639e-01,  3.4096e-01],\n",
       "         [ 1.1672e-03, -1.1918e+00, -5.0988e-01,  ...,  2.4068e-01,\n",
       "           2.2876e-01,  2.4375e-01],\n",
       "         ...,\n",
       "         [ 5.3970e-06, -1.7568e+00, -3.9661e-01,  ..., -1.6531e-01,\n",
       "          -1.6402e-01, -1.8575e-01],\n",
       "         [-2.3358e-05, -1.6507e+00, -3.0613e-01,  ..., -5.5308e-02,\n",
       "          -4.0144e-02, -7.5102e-02],\n",
       "         [-7.1337e-04, -1.5446e+00, -2.5765e-01,  ...,  4.1315e-02,\n",
       "           3.5456e-02,  1.6603e-02]],\n",
       "\n",
       "        [[-1.0535e-03,  1.5142e-01,  9.5618e-01,  ...,  7.9377e-01,\n",
       "           7.9652e-01,  7.5254e-01],\n",
       "         [-1.4788e-03,  1.8381e-01,  1.0184e+00,  ...,  7.8800e-01,\n",
       "           7.7730e-01,  7.4258e-01],\n",
       "         [-1.5090e-03,  1.4230e-01,  1.0542e+00,  ...,  8.1286e-01,\n",
       "           7.9735e-01,  7.6193e-01],\n",
       "         ...,\n",
       "         [ 5.4257e-04,  2.2584e-01, -1.5521e+00,  ..., -2.3355e+00,\n",
       "          -2.3562e+00, -2.3454e+00],\n",
       "         [-1.5010e-03,  2.5548e-01, -1.3704e+00,  ..., -2.2988e+00,\n",
       "          -2.3222e+00, -2.3219e+00],\n",
       "         [-9.2037e-04,  2.2780e-01, -1.2593e+00,  ..., -2.1684e+00,\n",
       "          -2.2016e+00, -2.1839e+00]],\n",
       "\n",
       "        [[-1.3187e-03,  2.0159e-03,  4.0943e-01,  ...,  9.5273e-01,\n",
       "           9.5537e-01,  8.9364e-01],\n",
       "         [-1.8164e-03, -2.0731e-02,  3.3355e-01,  ...,  9.8610e-01,\n",
       "           9.8387e-01,  9.2993e-01],\n",
       "         [-1.2468e-03, -3.0606e-02,  2.5261e-01,  ...,  1.0488e+00,\n",
       "           1.0420e+00,  9.8864e-01],\n",
       "         ...,\n",
       "         [-1.3303e-03,  6.6679e-01, -2.4917e-01,  ..., -1.5763e+00,\n",
       "          -1.5236e+00, -1.5167e+00],\n",
       "         [-1.1450e-03,  5.7581e-01, -2.7785e-01,  ..., -1.5933e+00,\n",
       "          -1.5268e+00, -1.5224e+00],\n",
       "         [-1.7594e-03,  2.8429e-01, -4.5690e-01,  ..., -1.5556e+00,\n",
       "          -1.5279e+00, -1.5241e+00]]], device='cuda:0',\n",
       "       grad_fn=<PermuteBackward0>)"
      ]
     },
     "execution_count": 30,
     "metadata": {},
     "output_type": "execute_result"
    }
   ],
   "source": [
    "G_model(torch.tensor(X).float().to(device))"
   ]
  },
  {
   "cell_type": "code",
   "execution_count": null,
   "metadata": {},
   "outputs": [],
   "source": []
  }
 ],
 "metadata": {
  "kernelspec": {
   "display_name": "speechandtext2gesture",
   "language": "python",
   "name": "python3"
  },
  "language_info": {
   "codemirror_mode": {
    "name": "ipython",
    "version": 3
   },
   "file_extension": ".py",
   "mimetype": "text/x-python",
   "name": "python",
   "nbconvert_exporter": "python",
   "pygments_lexer": "ipython3",
   "version": "3.10.12"
  }
 },
 "nbformat": 4,
 "nbformat_minor": 2
}
